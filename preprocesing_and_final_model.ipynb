{
  "nbformat": 4,
  "nbformat_minor": 0,
  "metadata": {
    "colab": {
      "name": "preprocesing_and_final_model.ipynb",
      "provenance": [],
      "collapsed_sections": []
    },
    "kernelspec": {
      "name": "python3",
      "display_name": "Python 3"
    }
  },
  "cells": [
    {
      "cell_type": "code",
      "metadata": {
        "id": "6eHRuDrUJlS-",
        "colab_type": "code",
        "outputId": "8583c435-a500-42a4-8497-6a7bfd302086",
        "colab": {
          "base_uri": "https://localhost:8080/",
          "height": 125
        }
      },
      "source": [
        "from google.colab import drive\n",
        "drive.mount('/content/drive')"
      ],
      "execution_count": 1,
      "outputs": [
        {
          "output_type": "stream",
          "text": [
            "Go to this URL in a browser: https://accounts.google.com/o/oauth2/auth?client_id=947318989803-6bn6qk8qdgf4n4g3pfee6491hc0brc4i.apps.googleusercontent.com&redirect_uri=urn%3aietf%3awg%3aoauth%3a2.0%3aoob&response_type=code&scope=email%20https%3a%2f%2fwww.googleapis.com%2fauth%2fdocs.test%20https%3a%2f%2fwww.googleapis.com%2fauth%2fdrive%20https%3a%2f%2fwww.googleapis.com%2fauth%2fdrive.photos.readonly%20https%3a%2f%2fwww.googleapis.com%2fauth%2fpeopleapi.readonly\n",
            "\n",
            "Enter your authorization code:\n",
            "··········\n",
            "Mounted at /content/drive\n"
          ],
          "name": "stdout"
        }
      ]
    },
    {
      "cell_type": "code",
      "metadata": {
        "id": "HGlkxNSxJp9X",
        "colab_type": "code",
        "colab": {}
      },
      "source": [
        "import numpy as np\n",
        "import pandas as pd \n",
        "\n",
        "import matplotlib.pyplot as plt\n",
        "import seaborn as sns"
      ],
      "execution_count": 0,
      "outputs": []
    },
    {
      "cell_type": "code",
      "metadata": {
        "id": "Mts9SltOKKsi",
        "colab_type": "code",
        "colab": {}
      },
      "source": [
        "train_ds = pd.read_csv('/content/drive/My Drive/credit/trainDS.csv')\n",
        "test_ds = pd.read_csv('/content/drive/My Drive/credit/testDS.csv')"
      ],
      "execution_count": 0,
      "outputs": []
    },
    {
      "cell_type": "markdown",
      "metadata": {
        "id": "FfyzW3rMCWyv",
        "colab_type": "text"
      },
      "source": [
        "Lets look at our data:"
      ]
    },
    {
      "cell_type": "code",
      "metadata": {
        "id": "pRNd-vrqc0Xm",
        "colab_type": "code",
        "outputId": "d0066765-440f-4bf1-fbed-d930e32dedf5",
        "colab": {
          "base_uri": "https://localhost:8080/",
          "height": 301
        }
      },
      "source": [
        "train_ds.info()"
      ],
      "execution_count": 4,
      "outputs": [
        {
          "output_type": "stream",
          "text": [
            "<class 'pandas.core.frame.DataFrame'>\n",
            "RangeIndex: 73276 entries, 0 to 73275\n",
            "Data columns (total 11 columns):\n",
            "feature1    73276 non-null float64\n",
            "age         73276 non-null int64\n",
            "feature2    73276 non-null int64\n",
            "feature3    73276 non-null float64\n",
            "feature4    73276 non-null object\n",
            "feature5    73276 non-null int64\n",
            "feature6    73276 non-null int64\n",
            "feature7    73276 non-null int64\n",
            "feature8    73276 non-null int64\n",
            "feature9    73276 non-null object\n",
            "target      73276 non-null int64\n",
            "dtypes: float64(2), int64(7), object(2)\n",
            "memory usage: 6.1+ MB\n"
          ],
          "name": "stdout"
        }
      ]
    },
    {
      "cell_type": "code",
      "metadata": {
        "id": "Tagy1fHGc7ez",
        "colab_type": "code",
        "outputId": "99f9d7b0-b72f-4bac-8779-08ad4102f755",
        "colab": {
          "base_uri": "https://localhost:8080/",
          "height": 283
        }
      },
      "source": [
        "test_ds.info()"
      ],
      "execution_count": 5,
      "outputs": [
        {
          "output_type": "stream",
          "text": [
            "<class 'pandas.core.frame.DataFrame'>\n",
            "RangeIndex: 31405 entries, 0 to 31404\n",
            "Data columns (total 10 columns):\n",
            "feature1    31405 non-null float64\n",
            "age         31405 non-null int64\n",
            "feature2    31405 non-null int64\n",
            "feature3    31405 non-null float64\n",
            "feature4    31405 non-null object\n",
            "feature5    31405 non-null int64\n",
            "feature6    31405 non-null int64\n",
            "feature7    31405 non-null int64\n",
            "feature8    31405 non-null int64\n",
            "feature9    31405 non-null object\n",
            "dtypes: float64(2), int64(6), object(2)\n",
            "memory usage: 2.4+ MB\n"
          ],
          "name": "stdout"
        }
      ]
    },
    {
      "cell_type": "code",
      "metadata": {
        "id": "2tZsEoJxKeEe",
        "colab_type": "code",
        "outputId": "9636c5cb-53f4-4f12-e099-0b4fd0b0d727",
        "colab": {
          "base_uri": "https://localhost:8080/",
          "height": 197
        }
      },
      "source": [
        "train_ds.head()"
      ],
      "execution_count": 6,
      "outputs": [
        {
          "output_type": "execute_result",
          "data": {
            "text/html": [
              "<div>\n",
              "<style scoped>\n",
              "    .dataframe tbody tr th:only-of-type {\n",
              "        vertical-align: middle;\n",
              "    }\n",
              "\n",
              "    .dataframe tbody tr th {\n",
              "        vertical-align: top;\n",
              "    }\n",
              "\n",
              "    .dataframe thead th {\n",
              "        text-align: right;\n",
              "    }\n",
              "</style>\n",
              "<table border=\"1\" class=\"dataframe\">\n",
              "  <thead>\n",
              "    <tr style=\"text-align: right;\">\n",
              "      <th></th>\n",
              "      <th>feature1</th>\n",
              "      <th>age</th>\n",
              "      <th>feature2</th>\n",
              "      <th>feature3</th>\n",
              "      <th>feature4</th>\n",
              "      <th>feature5</th>\n",
              "      <th>feature6</th>\n",
              "      <th>feature7</th>\n",
              "      <th>feature8</th>\n",
              "      <th>feature9</th>\n",
              "      <th>target</th>\n",
              "    </tr>\n",
              "  </thead>\n",
              "  <tbody>\n",
              "    <tr>\n",
              "      <th>0</th>\n",
              "      <td>0.001963</td>\n",
              "      <td>42</td>\n",
              "      <td>0</td>\n",
              "      <td>0.079941</td>\n",
              "      <td>1350</td>\n",
              "      <td>7</td>\n",
              "      <td>0</td>\n",
              "      <td>0</td>\n",
              "      <td>0</td>\n",
              "      <td>0</td>\n",
              "      <td>0</td>\n",
              "    </tr>\n",
              "    <tr>\n",
              "      <th>1</th>\n",
              "      <td>0.004538</td>\n",
              "      <td>86</td>\n",
              "      <td>0</td>\n",
              "      <td>3.000000</td>\n",
              "      <td></td>\n",
              "      <td>2</td>\n",
              "      <td>0</td>\n",
              "      <td>0</td>\n",
              "      <td>0</td>\n",
              "      <td></td>\n",
              "      <td>0</td>\n",
              "    </tr>\n",
              "    <tr>\n",
              "      <th>2</th>\n",
              "      <td>0.023044</td>\n",
              "      <td>61</td>\n",
              "      <td>0</td>\n",
              "      <td>0.419916</td>\n",
              "      <td>5000</td>\n",
              "      <td>18</td>\n",
              "      <td>0</td>\n",
              "      <td>2</td>\n",
              "      <td>0</td>\n",
              "      <td>1</td>\n",
              "      <td>0</td>\n",
              "    </tr>\n",
              "    <tr>\n",
              "      <th>3</th>\n",
              "      <td>0.121242</td>\n",
              "      <td>48</td>\n",
              "      <td>0</td>\n",
              "      <td>0.526589</td>\n",
              "      <td>2500</td>\n",
              "      <td>12</td>\n",
              "      <td>0</td>\n",
              "      <td>1</td>\n",
              "      <td>0</td>\n",
              "      <td>1</td>\n",
              "      <td>0</td>\n",
              "    </tr>\n",
              "    <tr>\n",
              "      <th>4</th>\n",
              "      <td>1.000000</td>\n",
              "      <td>49</td>\n",
              "      <td>3</td>\n",
              "      <td>0.256567</td>\n",
              "      <td>5900</td>\n",
              "      <td>3</td>\n",
              "      <td>3</td>\n",
              "      <td>1</td>\n",
              "      <td>1</td>\n",
              "      <td>2</td>\n",
              "      <td>1</td>\n",
              "    </tr>\n",
              "  </tbody>\n",
              "</table>\n",
              "</div>"
            ],
            "text/plain": [
              "   feature1  age  feature2  feature3  ... feature7  feature8  feature9  target\n",
              "0  0.001963   42         0  0.079941  ...        0         0         0       0\n",
              "1  0.004538   86         0  3.000000  ...        0         0                 0\n",
              "2  0.023044   61         0  0.419916  ...        2         0         1       0\n",
              "3  0.121242   48         0  0.526589  ...        1         0         1       0\n",
              "4  1.000000   49         3  0.256567  ...        1         1         2       1\n",
              "\n",
              "[5 rows x 11 columns]"
            ]
          },
          "metadata": {
            "tags": []
          },
          "execution_count": 6
        }
      ]
    },
    {
      "cell_type": "code",
      "metadata": {
        "id": "dVOly_XiNkVp",
        "colab_type": "code",
        "outputId": "e2c92d45-48af-4737-a477-da214e237062",
        "colab": {
          "base_uri": "https://localhost:8080/",
          "height": 70
        }
      },
      "source": [
        "train_ds['target'].value_counts()"
      ],
      "execution_count": 7,
      "outputs": [
        {
          "output_type": "execute_result",
          "data": {
            "text/plain": [
              "0    68382\n",
              "1     4894\n",
              "Name: target, dtype: int64"
            ]
          },
          "metadata": {
            "tags": []
          },
          "execution_count": 7
        }
      ]
    },
    {
      "cell_type": "code",
      "metadata": {
        "id": "qKbnG4iS5F6r",
        "colab_type": "code",
        "outputId": "bb3f7bc1-d8a7-4fb6-bf3c-abee7c2d73a1",
        "colab": {
          "base_uri": "https://localhost:8080/",
          "height": 247
        }
      },
      "source": [
        "x = train_ds['target'].value_counts()\n",
        "plt.pie(x, labels = ['a loan is issued to a client', 'customer will be refused credit'], shadow=True)\n",
        "plt.show()"
      ],
      "execution_count": 8,
      "outputs": [
        {
          "output_type": "display_data",
          "data": {
            "image/png": "[encoded data removed]",
            "text/plain": [
              "<Figure size 432x288 with 1 Axes>"
            ]
          },
          "metadata": {
            "tags": []
          }
        }
      ]
    },
    {
      "cell_type": "markdown",
      "metadata": {
        "id": "zVFKq1GYO5sH",
        "colab_type": "text"
      },
      "source": [
        "So, as we can see we deal with **unbalanced** dataset, so the metric for estimation of our models will be **f1** and also we can explore **recall**, as it would be good idea to detect 'risk' customers"
      ]
    },
    {
      "cell_type": "markdown",
      "metadata": {
        "id": "rWTti8m3PtFj",
        "colab_type": "text"
      },
      "source": [
        "Lets explore features"
      ]
    },
    {
      "cell_type": "markdown",
      "metadata": {
        "id": "n1ik7tRpYHwQ",
        "colab_type": "text"
      },
      "source": [
        "#feature1"
      ]
    },
    {
      "cell_type": "code",
      "metadata": {
        "id": "ulR7Op7OQiNv",
        "colab_type": "code",
        "outputId": "398b4eba-4a3a-4eca-f426-62e2cd791298",
        "colab": {
          "base_uri": "https://localhost:8080/",
          "height": 264
        }
      },
      "source": [
        "train_ds.feature1.plot.density()\n",
        "test_ds.feature1.plot.density()\n",
        "plt.show()"
      ],
      "execution_count": 0,
      "outputs": [
        {
          "output_type": "display_data",
          "data": {
            "image/png": "[encoded data removed]",
            "text/plain": [
              "<Figure size 432x288 with 1 Axes>"
            ]
          },
          "metadata": {
            "tags": []
          }
        }
      ]
    },
    {
      "cell_type": "code",
      "metadata": {
        "id": "MW6h3tacTWy0",
        "colab_type": "code",
        "outputId": "27d4440f-b998-4c72-bae2-20a47f465b92",
        "colab": {
          "base_uri": "https://localhost:8080/",
          "height": 264
        }
      },
      "source": [
        "train_ds.feature1.plot.hist(bins = 100)\n",
        "test_ds.feature1.plot.hist(bins = 100)\n",
        "plt.show()"
      ],
      "execution_count": 0,
      "outputs": [
        {
          "output_type": "display_data",
          "data": {
            "image/png": "[encoded data removed]",
            "text/plain": [
              "<Figure size 432x288 with 1 Axes>"
            ]
          },
          "metadata": {
            "tags": []
          }
        }
      ]
    },
    {
      "cell_type": "markdown",
      "metadata": {
        "id": "OTl_LYU7Ds5X",
        "colab_type": "text"
      },
      "source": [
        "looks not really good on the borders"
      ]
    },
    {
      "cell_type": "markdown",
      "metadata": {
        "id": "DZ4yOYAJYFHm",
        "colab_type": "text"
      },
      "source": [
        "#age"
      ]
    },
    {
      "cell_type": "code",
      "metadata": {
        "id": "GK2b2uUAUMjk",
        "colab_type": "code",
        "outputId": "d64d1702-9e25-442d-e655-cecb099e9cd1",
        "colab": {
          "base_uri": "https://localhost:8080/",
          "height": 34
        }
      },
      "source": [
        "train_ds.age.nunique()"
      ],
      "execution_count": 0,
      "outputs": [
        {
          "output_type": "execute_result",
          "data": {
            "text/plain": [
              "59"
            ]
          },
          "metadata": {
            "tags": []
          },
          "execution_count": 11
        }
      ]
    },
    {
      "cell_type": "code",
      "metadata": {
        "id": "Xd310p-VUdg9",
        "colab_type": "code",
        "outputId": "acf17398-85d7-4fa8-e280-8f32b1576b74",
        "colab": {
          "base_uri": "https://localhost:8080/",
          "height": 34
        }
      },
      "source": [
        "test_ds.age.nunique()"
      ],
      "execution_count": 0,
      "outputs": [
        {
          "output_type": "execute_result",
          "data": {
            "text/plain": [
              "59"
            ]
          },
          "metadata": {
            "tags": []
          },
          "execution_count": 12
        }
      ]
    },
    {
      "cell_type": "code",
      "metadata": {
        "id": "Kl7nj6sNT_9n",
        "colab_type": "code",
        "outputId": "b04a87e7-469b-405f-cc1b-af8f104c8d69",
        "colab": {
          "base_uri": "https://localhost:8080/",
          "height": 264
        }
      },
      "source": [
        "train_ds.age.plot.hist(bins = 59)\n",
        "test_ds.age.plot.hist(bins = 59)\n",
        "plt.show()"
      ],
      "execution_count": 0,
      "outputs": [
        {
          "output_type": "display_data",
          "data": {
            "image/png": "[encoded data removed]",
            "text/plain": [
              "<Figure size 432x288 with 1 Axes>"
            ]
          },
          "metadata": {
            "tags": []
          }
        }
      ]
    },
    {
      "cell_type": "markdown",
      "metadata": {
        "id": "bXtO8VNMEYAL",
        "colab_type": "text"
      },
      "source": [
        "Hm, pretty same situation with borders\n",
        "\n",
        "It would be possible to use the rule of **3 sigm**, but as it's the age and the data lie within adequate limits, we won't do that"
      ]
    },
    {
      "cell_type": "markdown",
      "metadata": {
        "id": "2rM0-yQhYBiv",
        "colab_type": "text"
      },
      "source": [
        "#feature2"
      ]
    },
    {
      "cell_type": "markdown",
      "metadata": {
        "id": "BXVUekHlHCJl",
        "colab_type": "text"
      },
      "source": [
        "Unique values of feature 2 in train and test dataset:"
      ]
    },
    {
      "cell_type": "code",
      "metadata": {
        "id": "6O6RACgvVGWM",
        "colab_type": "code",
        "outputId": "295bc5db-9460-480d-bbdd-c74f1f6ab7a7",
        "colab": {
          "base_uri": "https://localhost:8080/",
          "height": 70
        }
      },
      "source": [
        "print(train_ds.feature2.unique())\n",
        "print()\n",
        "print(test_ds.feature2.unique())"
      ],
      "execution_count": 0,
      "outputs": [
        {
          "output_type": "stream",
          "text": [
            "[0 3 1 2 4]\n",
            "\n",
            "[0 2 1 3 4]\n"
          ],
          "name": "stdout"
        }
      ]
    },
    {
      "cell_type": "code",
      "metadata": {
        "id": "2TIC2M3wVdFV",
        "colab_type": "code",
        "outputId": "1704374b-be72-4e3f-d1f4-fa614ffa29b7",
        "colab": {
          "base_uri": "https://localhost:8080/",
          "height": 264
        }
      },
      "source": [
        "train_ds.feature2.plot.hist(bins = 5)\n",
        "test_ds.feature2.plot.hist(bins = 5)\n",
        "plt.show()"
      ],
      "execution_count": 0,
      "outputs": [
        {
          "output_type": "display_data",
          "data": {
            "image/png": "[encoded data removed]",
            "text/plain": [
              "<Figure size 432x288 with 1 Axes>"
            ]
          },
          "metadata": {
            "tags": []
          }
        }
      ]
    },
    {
      "cell_type": "markdown",
      "metadata": {
        "id": "hT6FO9kWFNyI",
        "colab_type": "text"
      },
      "source": [
        "This one looks much better"
      ]
    },
    {
      "cell_type": "markdown",
      "metadata": {
        "id": "OSDDE3COX-jA",
        "colab_type": "text"
      },
      "source": [
        "#feature3"
      ]
    },
    {
      "cell_type": "code",
      "metadata": {
        "id": "buXNTKNKVp0m",
        "colab_type": "code",
        "outputId": "e1471ff2-8f94-4491-93f5-a210517a0fd0",
        "colab": {
          "base_uri": "https://localhost:8080/",
          "height": 264
        }
      },
      "source": [
        "train_ds.feature3.plot.hist(bins = 100)\n",
        "test_ds.feature3.plot.hist(bins = 100)\n",
        "plt.show()"
      ],
      "execution_count": 0,
      "outputs": [
        {
          "output_type": "display_data",
          "data": {
            "image/png": "[encoded data removed]",
            "text/plain": [
              "<Figure size 432x288 with 1 Axes>"
            ]
          },
          "metadata": {
            "tags": []
          }
        }
      ]
    },
    {
      "cell_type": "code",
      "metadata": {
        "id": "r-kWdZPpZeYQ",
        "colab_type": "code",
        "outputId": "2eb72f05-b3bd-4137-e58b-faad2bc17051",
        "colab": {
          "base_uri": "https://localhost:8080/",
          "height": 70
        }
      },
      "source": [
        "print('Train: %2d \\n' % train_ds.feature3.nunique())\n",
        "print('Test: %2d ' %test_ds.feature3.nunique())"
      ],
      "execution_count": 0,
      "outputs": [
        {
          "output_type": "stream",
          "text": [
            "Train: 57159 \n",
            "\n",
            "Test: 26058 \n"
          ],
          "name": "stdout"
        }
      ]
    },
    {
      "cell_type": "code",
      "metadata": {
        "id": "oPCg53QsWbcP",
        "colab_type": "code",
        "outputId": "1e3ddf5e-3d8a-4c5e-f77d-baa7f3299530",
        "colab": {
          "base_uri": "https://localhost:8080/",
          "height": 123
        }
      },
      "source": [
        "train_ds.feature3.value_counts().head()"
      ],
      "execution_count": 0,
      "outputs": [
        {
          "output_type": "execute_result",
          "data": {
            "text/plain": [
              "0.004329       3712\n",
              "4981.000000     723\n",
              "1.000000        102\n",
              "4.000000         86\n",
              "2.000000         82\n",
              "Name: feature3, dtype: int64"
            ]
          },
          "metadata": {
            "tags": []
          },
          "execution_count": 18
        }
      ]
    },
    {
      "cell_type": "code",
      "metadata": {
        "id": "8slKig1RYaS7",
        "colab_type": "code",
        "outputId": "b78d80c9-793a-46c8-fd8b-8253d8f13a45",
        "colab": {
          "base_uri": "https://localhost:8080/",
          "height": 123
        }
      },
      "source": [
        "test_ds.feature3.value_counts().head()"
      ],
      "execution_count": 0,
      "outputs": [
        {
          "output_type": "execute_result",
          "data": {
            "text/plain": [
              "0.004329       1552\n",
              "4981.000000     319\n",
              "1.000000         56\n",
              "2.000000         41\n",
              "4.000000         36\n",
              "Name: feature3, dtype: int64"
            ]
          },
          "metadata": {
            "tags": []
          },
          "execution_count": 19
        }
      ]
    },
    {
      "cell_type": "markdown",
      "metadata": {
        "id": "_57SEzqPF5A1",
        "colab_type": "text"
      },
      "source": [
        "Very big values with very small, maybe we will apply rank to this feature"
      ]
    },
    {
      "cell_type": "markdown",
      "metadata": {
        "id": "ZJp7WKBMX5Vt",
        "colab_type": "text"
      },
      "source": [
        "#feature4"
      ]
    },
    {
      "cell_type": "markdown",
      "metadata": {
        "id": "QACA_pxlHPjL",
        "colab_type": "text"
      },
      "source": [
        "Number of unique values of feature 4 in train and test dataset:"
      ]
    },
    {
      "cell_type": "code",
      "metadata": {
        "id": "_MjzT1fnXpMO",
        "colab_type": "code",
        "outputId": "e324dcfb-8761-42bf-d330-ce21c1aa1bf1",
        "colab": {
          "base_uri": "https://localhost:8080/",
          "height": 70
        }
      },
      "source": [
        "print('Train: %2d \\n' % train_ds.feature4.nunique())\n",
        "print('Test: %2d ' %test_ds.feature4.nunique())"
      ],
      "execution_count": 0,
      "outputs": [
        {
          "output_type": "stream",
          "text": [
            "Train: 9729 \n",
            "\n",
            "Test: 6410 \n"
          ],
          "name": "stdout"
        }
      ]
    },
    {
      "cell_type": "code",
      "metadata": {
        "id": "l3DSCqQaX4vu",
        "colab_type": "code",
        "outputId": "c5b1a9ba-54c2-451a-a1a6-1f06cb958a41",
        "colab": {
          "base_uri": "https://localhost:8080/",
          "height": 123
        }
      },
      "source": [
        "train_ds.feature4.value_counts().head()"
      ],
      "execution_count": 0,
      "outputs": [
        {
          "output_type": "execute_result",
          "data": {
            "text/plain": [
              "        14462\n",
              "1300     3024\n",
              "5000     1345\n",
              "4000     1045\n",
              "6000      992\n",
              "Name: feature4, dtype: int64"
            ]
          },
          "metadata": {
            "tags": []
          },
          "execution_count": 21
        }
      ]
    },
    {
      "cell_type": "code",
      "metadata": {
        "id": "qNiUHN7vYRFu",
        "colab_type": "code",
        "outputId": "1cafeea5-51cb-4168-c539-a36c0f91b949",
        "colab": {
          "base_uri": "https://localhost:8080/",
          "height": 123
        }
      },
      "source": [
        "test_ds.feature4.value_counts().head()"
      ],
      "execution_count": 0,
      "outputs": [
        {
          "output_type": "execute_result",
          "data": {
            "text/plain": [
              "        6229\n",
              "1300    1329\n",
              "5000     550\n",
              "4000     445\n",
              "6000     402\n",
              "Name: feature4, dtype: int64"
            ]
          },
          "metadata": {
            "tags": []
          },
          "execution_count": 22
        }
      ]
    },
    {
      "cell_type": "markdown",
      "metadata": {
        "id": "NCcC6mJjGlj1",
        "colab_type": "text"
      },
      "source": [
        "We can see that missed values were hidden behind spaces"
      ]
    },
    {
      "cell_type": "code",
      "metadata": {
        "id": "P8P1_PpiZPBq",
        "colab_type": "code",
        "outputId": "314f2878-1207-4ff1-914c-3e7ad1e231d3",
        "colab": {
          "base_uri": "https://localhost:8080/",
          "height": 264
        }
      },
      "source": [
        "train_ds.feature4.replace(' ', -999).astype(float).plot.hist(bins = 100)\n",
        "test_ds.feature4.replace(' ', -999).astype(float).plot.hist(bins = 100)\n",
        "plt.show()"
      ],
      "execution_count": 0,
      "outputs": [
        {
          "output_type": "display_data",
          "data": {
            "image/png": "[encoded data removed]",
            "text/plain": [
              "<Figure size 432x288 with 1 Axes>"
            ]
          },
          "metadata": {
            "tags": []
          }
        }
      ]
    },
    {
      "cell_type": "markdown",
      "metadata": {
        "id": "GIT6Tk46bvks",
        "colab_type": "text"
      },
      "source": [
        "#feature5"
      ]
    },
    {
      "cell_type": "markdown",
      "metadata": {
        "id": "sZqHMOr1HeD3",
        "colab_type": "text"
      },
      "source": [
        "Unique values of feature 5 in train and test dataset:"
      ]
    },
    {
      "cell_type": "code",
      "metadata": {
        "id": "a6ct-WhGbwsi",
        "colab_type": "code",
        "outputId": "5c68208d-685d-4389-a024-14679f0f95d2",
        "colab": {
          "base_uri": "https://localhost:8080/",
          "height": 70
        }
      },
      "source": [
        "print(train_ds.feature5.unique())\n",
        "print()\n",
        "print(test_ds.feature5.unique())"
      ],
      "execution_count": 0,
      "outputs": [
        {
          "output_type": "stream",
          "text": [
            "[ 7  2 18 12  3  8  4  9  5 10  6 16 11 14 21 13 24 20 15 17 23 22 19]\n",
            "\n",
            "[ 9 10  5 12  2 16  7  4  3 11  6 19  8 15 13 23 24 14 21 20 17 18 22]\n"
          ],
          "name": "stdout"
        }
      ]
    },
    {
      "cell_type": "code",
      "metadata": {
        "id": "j-gWuRWab87E",
        "colab_type": "code",
        "outputId": "21f69a4a-5832-404d-fcb0-3d37b94842f6",
        "colab": {
          "base_uri": "https://localhost:8080/",
          "height": 34
        }
      },
      "source": [
        "train_ds.feature5.nunique()"
      ],
      "execution_count": 0,
      "outputs": [
        {
          "output_type": "execute_result",
          "data": {
            "text/plain": [
              "23"
            ]
          },
          "metadata": {
            "tags": []
          },
          "execution_count": 25
        }
      ]
    },
    {
      "cell_type": "code",
      "metadata": {
        "id": "aRvyO7pDb6xz",
        "colab_type": "code",
        "outputId": "f64f85d0-741f-489f-e86d-f0718c6ccf19",
        "colab": {
          "base_uri": "https://localhost:8080/",
          "height": 264
        }
      },
      "source": [
        "train_ds.feature5.plot.hist(bins = 23)\n",
        "test_ds.feature5.plot.hist(bins = 23)\n",
        "plt.show()"
      ],
      "execution_count": 0,
      "outputs": [
        {
          "output_type": "display_data",
          "data": {
            "image/png": "[encoded data removed]",
            "text/plain": [
              "<Figure size 432x288 with 1 Axes>"
            ]
          },
          "metadata": {
            "tags": []
          }
        }
      ]
    },
    {
      "cell_type": "markdown",
      "metadata": {
        "id": "oeQgLc0GHsoy",
        "colab_type": "text"
      },
      "source": [
        "It's reminiscent of something we've seen before"
      ]
    },
    {
      "cell_type": "markdown",
      "metadata": {
        "id": "YvFZU42xcVVS",
        "colab_type": "text"
      },
      "source": [
        "#feature6"
      ]
    },
    {
      "cell_type": "markdown",
      "metadata": {
        "id": "f5s6Qu8aH_WD",
        "colab_type": "text"
      },
      "source": [
        "Unique values of feature 6 in train and test dataset:"
      ]
    },
    {
      "cell_type": "code",
      "metadata": {
        "id": "7eQe9k2WcUbn",
        "colab_type": "code",
        "outputId": "21a1041b-512e-445d-af6c-b0922ec2a77b",
        "colab": {
          "base_uri": "https://localhost:8080/",
          "height": 70
        }
      },
      "source": [
        "print(train_ds.feature6.unique())\n",
        "print()\n",
        "print(test_ds.feature6.unique())"
      ],
      "execution_count": 0,
      "outputs": [
        {
          "output_type": "stream",
          "text": [
            "[0 3 1 2]\n",
            "\n",
            "[0 1 2 3]\n"
          ],
          "name": "stdout"
        }
      ]
    },
    {
      "cell_type": "code",
      "metadata": {
        "id": "mYiZ6WrJctCG",
        "colab_type": "code",
        "outputId": "f11550dc-9e28-4558-fc8e-75fe1b99f2b6",
        "colab": {
          "base_uri": "https://localhost:8080/",
          "height": 264
        }
      },
      "source": [
        "train_ds.feature5.plot.hist(bins = 4)\n",
        "test_ds.feature5.plot.hist(bins = 4)\n",
        "plt.show()"
      ],
      "execution_count": 0,
      "outputs": [
        {
          "output_type": "display_data",
          "data": {
            "image/png": "[encoded data removed]",
            "text/plain": [
              "<Figure size 432x288 with 1 Axes>"
            ]
          },
          "metadata": {
            "tags": []
          }
        }
      ]
    },
    {
      "cell_type": "markdown",
      "metadata": {
        "id": "Bshh9v3ccz_1",
        "colab_type": "text"
      },
      "source": [
        "#feature7"
      ]
    },
    {
      "cell_type": "markdown",
      "metadata": {
        "id": "-nUqehCYIGnI",
        "colab_type": "text"
      },
      "source": [
        "Unique values of feature 7 in train and test dataset:"
      ]
    },
    {
      "cell_type": "code",
      "metadata": {
        "id": "XzEfj3mtcwVf",
        "colab_type": "code",
        "outputId": "e4f57fb1-2ba9-40b1-def8-e600b71d4482",
        "colab": {
          "base_uri": "https://localhost:8080/",
          "height": 70
        }
      },
      "source": [
        "print(train_ds.feature7.unique())\n",
        "print()\n",
        "print(test_ds.feature7.unique())"
      ],
      "execution_count": 0,
      "outputs": [
        {
          "output_type": "stream",
          "text": [
            "[0 2 1 3 4]\n",
            "\n",
            "[1 0 2 3 4]\n"
          ],
          "name": "stdout"
        }
      ]
    },
    {
      "cell_type": "code",
      "metadata": {
        "id": "v3E_9DtKc9EB",
        "colab_type": "code",
        "outputId": "647108ee-0ad6-4d74-dce6-9530f0b8902d",
        "colab": {
          "base_uri": "https://localhost:8080/",
          "height": 264
        }
      },
      "source": [
        "train_ds.feature5.plot.hist(bins = 5)\n",
        "test_ds.feature5.plot.hist(bins = 5)\n",
        "plt.show()"
      ],
      "execution_count": 0,
      "outputs": [
        {
          "output_type": "display_data",
          "data": {
            "image/png": "[encoded data removed]",
            "text/plain": [
              "<Figure size 432x288 with 1 Axes>"
            ]
          },
          "metadata": {
            "tags": []
          }
        }
      ]
    },
    {
      "cell_type": "markdown",
      "metadata": {
        "id": "NAz6Gg1SdDit",
        "colab_type": "text"
      },
      "source": [
        "#feature8"
      ]
    },
    {
      "cell_type": "markdown",
      "metadata": {
        "id": "H37EnKeHIQfZ",
        "colab_type": "text"
      },
      "source": [
        "Unique values of..."
      ]
    },
    {
      "cell_type": "code",
      "metadata": {
        "id": "4UTpNOEDdBh-",
        "colab_type": "code",
        "outputId": "d3b80ed3-ea10-49e2-a2b7-33c4dbd6e519",
        "colab": {
          "base_uri": "https://localhost:8080/",
          "height": 70
        }
      },
      "source": [
        "print(train_ds.feature8.unique())\n",
        "print()\n",
        "print(test_ds.feature8.unique())"
      ],
      "execution_count": 0,
      "outputs": [
        {
          "output_type": "stream",
          "text": [
            "[0 1 2]\n",
            "\n",
            "[0 1 2]\n"
          ],
          "name": "stdout"
        }
      ]
    },
    {
      "cell_type": "code",
      "metadata": {
        "id": "CUQF7YW5dKzh",
        "colab_type": "code",
        "outputId": "902aed12-de55-4339-f09a-fed860d43b98",
        "colab": {
          "base_uri": "https://localhost:8080/",
          "height": 264
        }
      },
      "source": [
        "train_ds.feature8.plot.hist(bins = 3)\n",
        "test_ds.feature8.plot.hist(bins = 3)\n",
        "plt.show()"
      ],
      "execution_count": 0,
      "outputs": [
        {
          "output_type": "display_data",
          "data": {
            "image/png": "[encoded data removed]",
            "text/plain": [
              "<Figure size 432x288 with 1 Axes>"
            ]
          },
          "metadata": {
            "tags": []
          }
        }
      ]
    },
    {
      "cell_type": "markdown",
      "metadata": {
        "id": "GHQD_4RAdSbA",
        "colab_type": "text"
      },
      "source": [
        "#feature9"
      ]
    },
    {
      "cell_type": "code",
      "metadata": {
        "id": "8EPBTm8edUxF",
        "colab_type": "code",
        "outputId": "792f450f-a408-438b-8094-b56e0b91e87d",
        "colab": {
          "base_uri": "https://localhost:8080/",
          "height": 70
        }
      },
      "source": [
        "print(train_ds.feature9.unique())\n",
        "print()\n",
        "print(test_ds.feature9.unique())"
      ],
      "execution_count": 0,
      "outputs": [
        {
          "output_type": "stream",
          "text": [
            "['0' ' ' '1' '2' '3' '4']\n",
            "\n",
            "['0' '3' '2' '1' '4' ' ']\n"
          ],
          "name": "stdout"
        }
      ]
    },
    {
      "cell_type": "code",
      "metadata": {
        "id": "SeuDjCaYddFm",
        "colab_type": "code",
        "outputId": "9754b3a2-ca8c-4896-bbef-6fc07db03a7f",
        "colab": {
          "base_uri": "https://localhost:8080/",
          "height": 264
        }
      },
      "source": [
        "train_ds.feature9.replace(' ', -2).astype(int).plot.hist(bins = 6)\n",
        "test_ds.feature9.replace(' ', -2).astype(int).plot.hist(bins = 6)\n",
        "plt.show()"
      ],
      "execution_count": 0,
      "outputs": [
        {
          "output_type": "display_data",
          "data": {
            "image/png": "[encoded data removed]",
            "text/plain": [
              "<Figure size 432x288 with 1 Axes>"
            ]
          },
          "metadata": {
            "tags": []
          }
        }
      ]
    },
    {
      "cell_type": "markdown",
      "metadata": {
        "id": "gFw5cAdO7Mht",
        "colab_type": "text"
      },
      "source": [
        "So, we can make some **conlusion**: in all cases **distributions** of test and train values are the same"
      ]
    },
    {
      "cell_type": "markdown",
      "metadata": {
        "id": "cgUUqIV1gINH",
        "colab_type": "text"
      },
      "source": [
        "#Correlation plot"
      ]
    },
    {
      "cell_type": "code",
      "metadata": {
        "id": "T42pZwlifzMi",
        "colab_type": "code",
        "outputId": "a0cd2a62-7fb9-44e5-aa1f-b5719e513f87",
        "colab": {
          "base_uri": "https://localhost:8080/",
          "height": 715
        }
      },
      "source": [
        "plt.figure(figsize = (15, 12))\n",
        "\n",
        "# Heatmap of correlations\n",
        "sns.heatmap(train_ds.corr(), cmap = plt.cm.RdYlBu_r, vmin = -1.0, annot = True, vmax = 1.0)\n",
        "plt.title('Correlation plot');"
      ],
      "execution_count": 0,
      "outputs": [
        {
          "output_type": "display_data",
          "data": {
            "image/png": "[encoded data removed]",
            "text/plain": [
              "<Figure size 1080x864 with 2 Axes>"
            ]
          },
          "metadata": {
            "tags": []
          }
        }
      ]
    },
    {
      "cell_type": "markdown",
      "metadata": {
        "id": "QF9CPJJhtUw6",
        "colab_type": "text"
      },
      "source": [
        "#Base line"
      ]
    },
    {
      "cell_type": "markdown",
      "metadata": {
        "id": "Mvvih4Ji7nxW",
        "colab_type": "text"
      },
      "source": [
        "As most of features are categorical, we will use **tree-based** estimators"
      ]
    },
    {
      "cell_type": "code",
      "metadata": {
        "id": "a4p87zqBtTHL",
        "colab_type": "code",
        "colab": {}
      },
      "source": [
        "from sklearn.ensemble import RandomForestClassifier\n",
        "from sklearn.model_selection import StratifiedKFold\n",
        "from sklearn.model_selection import cross_validate\n"
      ],
      "execution_count": 0,
      "outputs": []
    },
    {
      "cell_type": "code",
      "metadata": {
        "id": "jvUL-VPddc6a",
        "colab_type": "code",
        "colab": {}
      },
      "source": [
        "randf = RandomForestClassifier(random_state=0, n_jobs=-1, max_depth = 15, n_estimators=200) #max_f = 3, default"
      ],
      "execution_count": 0,
      "outputs": []
    },
    {
      "cell_type": "markdown",
      "metadata": {
        "id": "m-5nI3fnXFz3",
        "colab_type": "text"
      },
      "source": [
        "Firstly, we will try to train classifier with almost non-prepared data"
      ]
    },
    {
      "cell_type": "code",
      "metadata": {
        "id": "qeiboKdCt6cK",
        "colab_type": "code",
        "colab": {}
      },
      "source": [
        "X = train_ds.drop(columns='target')\n",
        "y = train_ds['target']"
      ],
      "execution_count": 0,
      "outputs": []
    },
    {
      "cell_type": "code",
      "metadata": {
        "id": "nrPVMrBQ0BPu",
        "colab_type": "code",
        "colab": {}
      },
      "source": [
        "X.feature4 = X.feature4.replace(' ', -999).astype(int)\n",
        "X.feature9 = X.feature9.replace(' ', -1).astype(int)"
      ],
      "execution_count": 0,
      "outputs": []
    },
    {
      "cell_type": "markdown",
      "metadata": {
        "id": "9M_rfyRuXquI",
        "colab_type": "text"
      },
      "source": [
        "As specified in the documentation, **cross_validate** use **StratifienKFold**, so to estimate Random Forest, we will use it:"
      ]
    },
    {
      "cell_type": "code",
      "metadata": {
        "id": "ILOZOtua38AQ",
        "colab_type": "code",
        "outputId": "4ba61d13-7aab-435e-b366-706fa2adcc89",
        "colab": {
          "base_uri": "https://localhost:8080/",
          "height": 52
        }
      },
      "source": [
        "res = cross_validate(randf, X, y, scoring=['f1', 'recall'], n_jobs=-1, cv=5, return_train_score=True, verbose=1)"
      ],
      "execution_count": 0,
      "outputs": [
        {
          "output_type": "stream",
          "text": [
            "[Parallel(n_jobs=-1)]: Using backend LokyBackend with 2 concurrent workers.\n",
            "[Parallel(n_jobs=-1)]: Done   5 out of   5 | elapsed:  1.3min finished\n"
          ],
          "name": "stderr"
        }
      ]
    },
    {
      "cell_type": "code",
      "metadata": {
        "id": "2p-x_e849j15",
        "colab_type": "code",
        "outputId": "8e2c0c04-9f72-473a-aa5e-a9e58dfbb0fa",
        "colab": {
          "base_uri": "https://localhost:8080/",
          "height": 87
        }
      },
      "source": [
        "print('Test F1: % 0.4f \\nTrain F1: % 0.4f \\nTest Recall:% 0.4f \\nTrain Recall: % 0.4f ' % (np.mean(res['test_f1']), \n",
        "                                                                                          np.mean(res['train_f1']),\n",
        "                                                                                          np.mean(res['test_recall']),\n",
        "                                                                                          np.mean(res['train_recall'])))"
      ],
      "execution_count": 0,
      "outputs": [
        {
          "output_type": "stream",
          "text": [
            "Test F1:  0.2752 \n",
            "Train F1:  0.6964 \n",
            "Test Recall: 0.1814 \n",
            "Train Recall:  0.5346 \n"
          ],
          "name": "stdout"
        }
      ]
    },
    {
      "cell_type": "markdown",
      "metadata": {
        "id": "9UUDYC27I08G",
        "colab_type": "text"
      },
      "source": [
        "Not really that we axpected"
      ]
    },
    {
      "cell_type": "markdown",
      "metadata": {
        "id": "7tkQc465-b2y",
        "colab_type": "text"
      },
      "source": [
        "#Feature selection and feature engineering\n",
        "\n",
        "let's drop feature 3, which distribution looks too bad"
      ]
    },
    {
      "cell_type": "code",
      "metadata": {
        "id": "bssDN7nt-O_X",
        "colab_type": "code",
        "colab": {}
      },
      "source": [
        "X = train_ds.drop(columns=['target', 'feature3'])\n",
        "\n",
        "X.feature4 = X.feature4.replace(' ', -999).astype(int)\n",
        "X.feature9 = X.feature9.replace(' ', -1).astype(int)"
      ],
      "execution_count": 0,
      "outputs": []
    },
    {
      "cell_type": "code",
      "metadata": {
        "id": "LW6Dvp1t-jYR",
        "colab_type": "code",
        "outputId": "f25a34d1-920a-468b-e4e2-46f2f2547a31",
        "colab": {
          "base_uri": "https://localhost:8080/",
          "height": 52
        }
      },
      "source": [
        "res1 = cross_validate(randf, X, y, scoring=['f1', 'recall'], n_jobs=-1, cv=5, return_train_score=True, verbose=1)"
      ],
      "execution_count": 0,
      "outputs": [
        {
          "output_type": "stream",
          "text": [
            "[Parallel(n_jobs=-1)]: Using backend LokyBackend with 2 concurrent workers.\n",
            "[Parallel(n_jobs=-1)]: Done   5 out of   5 | elapsed:  1.1min finished\n"
          ],
          "name": "stderr"
        }
      ]
    },
    {
      "cell_type": "code",
      "metadata": {
        "id": "C02JQ6er-41w",
        "colab_type": "code",
        "outputId": "0a1bb848-3ca9-4ce0-8e90-76f273059be9",
        "colab": {
          "base_uri": "https://localhost:8080/",
          "height": 87
        }
      },
      "source": [
        "print('Test F1: % 0.4f \\nTrain F1: % 0.4f \\nTest Recall:% 0.4f \\nTrain Recall: % 0.4f ' % (np.mean(res1['test_f1']), \n",
        "                                                                                          np.mean(res1['train_f1']),\n",
        "                                                                                          np.mean(res1['test_recall']),\n",
        "                                                                                          np.mean(res1['train_recall'])))"
      ],
      "execution_count": 0,
      "outputs": [
        {
          "output_type": "stream",
          "text": [
            "Test F1:  0.2730 \n",
            "Train F1:  0.6862 \n",
            "Test Recall: 0.1810 \n",
            "Train Recall:  0.5237 \n"
          ],
          "name": "stdout"
        }
      ]
    },
    {
      "cell_type": "markdown",
      "metadata": {
        "id": "33rpGIHaJ5Z9",
        "colab_type": "text"
      },
      "source": [
        "Nothing was changed"
      ]
    },
    {
      "cell_type": "markdown",
      "metadata": {
        "id": "QutpgwOSAdGD",
        "colab_type": "text"
      },
      "source": [
        "let's have a look at Features Importances:"
      ]
    },
    {
      "cell_type": "code",
      "metadata": {
        "id": "LRsGyIFaAVgw",
        "colab_type": "code",
        "outputId": "aad7f049-4818-4130-c9cb-b8133a30d4d8",
        "colab": {
          "base_uri": "https://localhost:8080/",
          "height": 158
        }
      },
      "source": [
        "X = train_ds.drop(columns='target')\n",
        "y = train_ds['target']\n",
        "\n",
        "X.feature4 = X.feature4.replace(' ', -999).astype(int)\n",
        "X.feature9 = X.feature9.replace(' ', -1).astype(int)\n",
        "\n",
        "randf.fit(X, y)"
      ],
      "execution_count": 0,
      "outputs": [
        {
          "output_type": "execute_result",
          "data": {
            "text/plain": [
              "RandomForestClassifier(bootstrap=True, ccp_alpha=0.0, class_weight=None,\n",
              "                       criterion='gini', max_depth=15, max_features='auto',\n",
              "                       max_leaf_nodes=None, max_samples=None,\n",
              "                       min_impurity_decrease=0.0, min_impurity_split=None,\n",
              "                       min_samples_leaf=1, min_samples_split=2,\n",
              "                       min_weight_fraction_leaf=0.0, n_estimators=200,\n",
              "                       n_jobs=-1, oob_score=False, random_state=0, verbose=0,\n",
              "                       warm_start=False)"
            ]
          },
          "metadata": {
            "tags": []
          },
          "execution_count": 45
        }
      ]
    },
    {
      "cell_type": "code",
      "metadata": {
        "id": "3SU9pG0oBRoM",
        "colab_type": "code",
        "outputId": "f6ef96bf-e238-4db9-ce75-14144df93acc",
        "colab": {
          "base_uri": "https://localhost:8080/",
          "height": 52
        }
      },
      "source": [
        "print(randf.feature_importances_)"
      ],
      "execution_count": 0,
      "outputs": [
        {
          "output_type": "stream",
          "text": [
            "[0.17646423 0.10673884 0.0761927  0.14534852 0.11658772 0.0770035\n",
            " 0.15096728 0.0301735  0.07721808 0.04330562]\n"
          ],
          "name": "stdout"
        }
      ]
    },
    {
      "cell_type": "markdown",
      "metadata": {
        "id": "G30MFH8gTV5L",
        "colab_type": "text"
      },
      "source": [
        "So, we will make some data preprocesing now and compare results and if they will be better, we will try more complicated model"
      ]
    },
    {
      "cell_type": "markdown",
      "metadata": {
        "id": "6v_KktAmT1wz",
        "colab_type": "text"
      },
      "source": [
        "Let's start from 3rd feature:"
      ]
    },
    {
      "cell_type": "code",
      "metadata": {
        "id": "YEGPAuLGTysV",
        "colab_type": "code",
        "colab": {}
      },
      "source": [
        "new_train_ds = train_ds.copy()\n",
        "new_test_ds = test_ds.copy()"
      ],
      "execution_count": 0,
      "outputs": []
    },
    {
      "cell_type": "markdown",
      "metadata": {
        "id": "kar2yKMFtAWo",
        "colab_type": "text"
      },
      "source": [
        "#New features:"
      ]
    },
    {
      "cell_type": "markdown",
      "metadata": {
        "id": "dmi2kfnvYwl-",
        "colab_type": "text"
      },
      "source": [
        "We will use **rank**, as this feature has too small and too big values at the same time:"
      ]
    },
    {
      "cell_type": "code",
      "metadata": {
        "id": "gwfFXVrFgRvw",
        "colab_type": "code",
        "colab": {}
      },
      "source": [
        "new_train_ds['ranked_feature3'] = new_train_ds['feature3'].rank(method='average', pct = True)\n",
        "new_test_ds['ranked_feature3'] = new_test_ds['feature3'].rank(method='average', pct = True)"
      ],
      "execution_count": 0,
      "outputs": []
    },
    {
      "cell_type": "code",
      "metadata": {
        "id": "TnA5Ic21tXFd",
        "colab_type": "code",
        "outputId": "6401b085-b730-45fc-94ee-254f02c0381e",
        "colab": {
          "base_uri": "https://localhost:8080/",
          "height": 264
        }
      },
      "source": [
        "new_train_ds['ranked_feature3'].plot.density()\n",
        "new_test_ds['ranked_feature3'].plot.density()\n",
        "plt.show()"
      ],
      "execution_count": 0,
      "outputs": [
        {
          "output_type": "display_data",
          "data": {
            "image/png": "[encoded data removed]",
            "text/plain": [
              "<Figure size 432x288 with 1 Axes>"
            ]
          },
          "metadata": {
            "tags": []
          }
        }
      ]
    },
    {
      "cell_type": "markdown",
      "metadata": {
        "id": "mP-zi1eJpbtF",
        "colab_type": "text"
      },
      "source": [
        "there, we will replace spaces by mean, but firstly we will create a **new column** where we will mark places, where feature4 had missed values:"
      ]
    },
    {
      "cell_type": "code",
      "metadata": {
        "id": "OgBM_0g9rPHY",
        "colab_type": "code",
        "colab": {}
      },
      "source": [
        "new_train_ds['feature4_is_none']= (new_train_ds[['feature4']] == ' ')\n",
        "new_test_ds['feature4_is_none'] = (new_test_ds[['feature4']] == ' ')"
      ],
      "execution_count": 0,
      "outputs": []
    },
    {
      "cell_type": "code",
      "metadata": {
        "id": "njxVcqkJprVD",
        "colab_type": "code",
        "colab": {}
      },
      "source": [
        "new_train_ds['feature4']=new_train_ds['feature4'].replace(' ', 0).astype(int)\n",
        "new_test_ds['feature4']=new_test_ds['feature4'].replace(' ', 0).astype(int)"
      ],
      "execution_count": 0,
      "outputs": []
    },
    {
      "cell_type": "markdown",
      "metadata": {
        "id": "FgoyidIxZ1Rb",
        "colab_type": "text"
      },
      "source": [
        "And also, we will **scale** it to range from 0 to 1:"
      ]
    },
    {
      "cell_type": "code",
      "metadata": {
        "id": "CoqUh4AulaBq",
        "colab_type": "code",
        "colab": {}
      },
      "source": [
        "from sklearn.preprocessing import MinMaxScaler\n",
        "\n",
        "scaler = MinMaxScaler()\n",
        "scaler.fit(new_train_ds['feature4'].values.reshape(-1, 1))\n",
        "new_train_ds['feature4'] = scaler.transform(new_train_ds['feature4'].values.reshape(-1, 1))\n",
        "\n",
        "scaler.fit(new_test_ds['feature4'].values.reshape(-1, 1))\n",
        "new_test_ds['feature4'] = scaler.transform(new_test_ds['feature4'].values.reshape(-1, 1))"
      ],
      "execution_count": 0,
      "outputs": []
    },
    {
      "cell_type": "code",
      "metadata": {
        "id": "EIWs2jv_sMsP",
        "colab_type": "code",
        "colab": {}
      },
      "source": [
        "new_train_ds['feature4'] = new_train_ds['feature4'].replace(0, new_train_ds['feature4'].mean())\n",
        "new_test_ds['feature4'] = new_test_ds['feature4'].replace(0, new_test_ds['feature4'].mean())"
      ],
      "execution_count": 0,
      "outputs": []
    },
    {
      "cell_type": "code",
      "metadata": {
        "id": "eCKi7S4_sd9K",
        "colab_type": "code",
        "outputId": "45c8f7fe-fbcc-42a3-a9af-dfa8b49703c7",
        "colab": {
          "base_uri": "https://localhost:8080/",
          "height": 264
        }
      },
      "source": [
        "new_train_ds['feature4'].plot.density()\n",
        "new_test_ds['feature4'].plot.density()\n",
        "plt.show()"
      ],
      "execution_count": 0,
      "outputs": [
        {
          "output_type": "display_data",
          "data": {
            "image/png": "[encoded data removed]",
            "text/plain": [
              "<Figure size 432x288 with 1 Axes>"
            ]
          },
          "metadata": {
            "tags": []
          }
        }
      ]
    },
    {
      "cell_type": "markdown",
      "metadata": {
        "id": "L4wqpepsaIED",
        "colab_type": "text"
      },
      "source": [
        "Let's do the same with 9th feature, but without scaling and using median instead of mean as it categorical:"
      ]
    },
    {
      "cell_type": "code",
      "metadata": {
        "id": "VdMaHp5-v3MO",
        "colab_type": "code",
        "colab": {}
      },
      "source": [
        "new_train_ds['feature9_is_none']= (new_train_ds[['feature9']] == ' ')\n",
        "new_test_ds['feature9_is_none'] = (new_test_ds[['feature9']] == ' ')"
      ],
      "execution_count": 0,
      "outputs": []
    },
    {
      "cell_type": "code",
      "metadata": {
        "id": "LDjdom4Gv3Jv",
        "colab_type": "code",
        "colab": {}
      },
      "source": [
        "new_train_ds['feature9']=new_train_ds['feature9'].replace(' ', np.nan)\n",
        "new_test_ds['feature9']=new_test_ds['feature9'].replace(' ', np.nan)"
      ],
      "execution_count": 0,
      "outputs": []
    },
    {
      "cell_type": "code",
      "metadata": {
        "id": "5QE4VVi8xZyu",
        "colab_type": "code",
        "colab": {}
      },
      "source": [
        "new_train_ds['feature9']=new_train_ds['feature9'].fillna(new_train_ds['feature9'].median())\n",
        "new_test_ds['feature9']=new_test_ds['feature9'].fillna(new_train_ds['feature9'].median())"
      ],
      "execution_count": 0,
      "outputs": []
    },
    {
      "cell_type": "code",
      "metadata": {
        "id": "KGosPETmyqwx",
        "colab_type": "code",
        "outputId": "69b7bac2-6953-4a8b-8078-b5ce86c8036f",
        "colab": {
          "base_uri": "https://localhost:8080/",
          "height": 264
        }
      },
      "source": [
        "new_train_ds['feature9'].astype(int).plot.hist(bins=5)\n",
        "new_test_ds['feature9'].astype(int).plot.hist(bins=5)\n",
        "plt.show()"
      ],
      "execution_count": 0,
      "outputs": [
        {
          "output_type": "display_data",
          "data": {
            "image/png": "[encoded data removed]",
            "text/plain": [
              "<Figure size 432x288 with 1 Axes>"
            ]
          },
          "metadata": {
            "tags": []
          }
        }
      ]
    },
    {
      "cell_type": "markdown",
      "metadata": {
        "id": "S9tOzlIlzVbV",
        "colab_type": "text"
      },
      "source": [
        "Now, lets try train on this features:"
      ]
    },
    {
      "cell_type": "code",
      "metadata": {
        "id": "zbn_UDPrze2K",
        "colab_type": "code",
        "colab": {}
      },
      "source": [
        "X = new_train_ds.drop(columns=['target', 'feature3'])\n",
        "y = new_train_ds['target']"
      ],
      "execution_count": 0,
      "outputs": []
    },
    {
      "cell_type": "code",
      "metadata": {
        "id": "8HCXh-q0zezY",
        "colab_type": "code",
        "outputId": "22d531a4-a6cd-4e07-b5b4-669b0267d6a0",
        "colab": {
          "base_uri": "https://localhost:8080/",
          "height": 52
        }
      },
      "source": [
        "res2 = cross_validate(randf, X, y, scoring=['f1', 'recall'], n_jobs=-1, cv=5, return_train_score=True, verbose=1)"
      ],
      "execution_count": 0,
      "outputs": [
        {
          "output_type": "stream",
          "text": [
            "[Parallel(n_jobs=-1)]: Using backend LokyBackend with 2 concurrent workers.\n",
            "[Parallel(n_jobs=-1)]: Done   5 out of   5 | elapsed:  1.2min finished\n"
          ],
          "name": "stderr"
        }
      ]
    },
    {
      "cell_type": "code",
      "metadata": {
        "id": "r9gB7YPdzexV",
        "colab_type": "code",
        "outputId": "c9f2d0a5-3f24-4d91-f5a7-184f6c692baa",
        "colab": {
          "base_uri": "https://localhost:8080/",
          "height": 87
        }
      },
      "source": [
        "print('Test F1: % 0.4f \\nTrain F1: % 0.4f \\nTest Recall:% 0.4f \\nTrain Recall: % 0.4f ' % (np.mean(res2['test_f1']), \n",
        "                                                                                          np.mean(res2['train_f1']),\n",
        "                                                                                          np.mean(res2['test_recall']),\n",
        "                                                                                          np.mean(res2['train_recall'])))"
      ],
      "execution_count": 0,
      "outputs": [
        {
          "output_type": "stream",
          "text": [
            "Test F1:  0.2724 \n",
            "Train F1:  0.6856 \n",
            "Test Recall: 0.1782 \n",
            "Train Recall:  0.5220 \n"
          ],
          "name": "stdout"
        }
      ]
    },
    {
      "cell_type": "code",
      "metadata": {
        "id": "G6BLRiEtzeu2",
        "colab_type": "code",
        "outputId": "a2a0e9ea-deef-42ee-8292-e46276db0efb",
        "colab": {
          "base_uri": "https://localhost:8080/",
          "height": 52
        }
      },
      "source": [
        "randf.fit(X, y)\n",
        "print(randf.feature_importances_)"
      ],
      "execution_count": 0,
      "outputs": [
        {
          "output_type": "stream",
          "text": [
            "[0.17785335 0.10470248 0.07887272 0.11193162 0.07743679 0.14565338\n",
            " 0.03128822 0.0832087  0.03809723 0.14000616 0.00691763 0.00403172]\n"
          ],
          "name": "stdout"
        }
      ]
    },
    {
      "cell_type": "code",
      "metadata": {
        "id": "ues3C-3fzesv",
        "colab_type": "code",
        "colab": {}
      },
      "source": [
        "X = new_train_ds.drop(columns=['target', 'feature3', 'feature4'])\n",
        "y = new_train_ds['target']"
      ],
      "execution_count": 0,
      "outputs": []
    },
    {
      "cell_type": "code",
      "metadata": {
        "id": "L2XfWIaAzeqr",
        "colab_type": "code",
        "outputId": "79dfe732-2934-4a07-fcab-21f14a7e6915",
        "colab": {
          "base_uri": "https://localhost:8080/",
          "height": 52
        }
      },
      "source": [
        "res3 = cross_validate(randf, X, y, scoring=['f1', 'recall'], n_jobs=-1, cv=5, return_train_score=True, verbose=1)"
      ],
      "execution_count": 0,
      "outputs": [
        {
          "output_type": "stream",
          "text": [
            "[Parallel(n_jobs=-1)]: Using backend LokyBackend with 2 concurrent workers.\n",
            "[Parallel(n_jobs=-1)]: Done   5 out of   5 | elapsed:  1.1min finished\n"
          ],
          "name": "stderr"
        }
      ]
    },
    {
      "cell_type": "code",
      "metadata": {
        "id": "5gLIP3N5zem3",
        "colab_type": "code",
        "outputId": "ac3c3be7-450f-471c-f6a1-fe021fb60fb0",
        "colab": {
          "base_uri": "https://localhost:8080/",
          "height": 87
        }
      },
      "source": [
        "print('Test F1: % 0.4f \\nTrain F1: % 0.4f \\nTest Recall:% 0.4f \\nTrain Recall: % 0.4f ' % (np.mean(res3['test_f1']), \n",
        "                                                                                          np.mean(res3['train_f1']),\n",
        "                                                                                          np.mean(res3['test_recall']),\n",
        "                                                                                          np.mean(res3['train_recall'])))"
      ],
      "execution_count": 0,
      "outputs": [
        {
          "output_type": "stream",
          "text": [
            "Test F1:  0.2726 \n",
            "Train F1:  0.6735 \n",
            "Test Recall: 0.1798 \n",
            "Train Recall:  0.5082 \n"
          ],
          "name": "stdout"
        }
      ]
    },
    {
      "cell_type": "markdown",
      "metadata": {
        "id": "TwHmolj1azA1",
        "colab_type": "text"
      },
      "source": [
        "So, we can make a conclusion, that new features didn't impact on metrix, but we will try do some same steps with Neural Network (see NNwithFastai Notebook).\n",
        "\n",
        "transformed dataset will be used in that notebook:"
      ]
    },
    {
      "cell_type": "code",
      "metadata": {
        "id": "T1MWtOWqzejX",
        "colab_type": "code",
        "colab": {}
      },
      "source": [
        "new_train_ds.to_csv('/content/drive/My Drive/credit/new_trainDS.csv')\n",
        "new_test_ds.to_csv('/content/drive/My Drive/credit/new_testDS.csv')"
      ],
      "execution_count": 0,
      "outputs": []
    },
    {
      "cell_type": "markdown",
      "metadata": {
        "id": "2zs84-rT-ii1",
        "colab_type": "text"
      },
      "source": [
        "#Final model\n",
        "\n",
        "We will use probabilities, that previous models gave as, as meta-parameters for SVM."
      ]
    },
    {
      "cell_type": "markdown",
      "metadata": {
        "id": "vog6VzN0pdvO",
        "colab_type": "text"
      },
      "source": [
        "Upload results of LGBM and NN:"
      ]
    },
    {
      "cell_type": "code",
      "metadata": {
        "id": "q9UVpqyr-iGq",
        "colab_type": "code",
        "colab": {}
      },
      "source": [
        "prediction_nn = pd.read_csv('/content/drive/My Drive/credit/train_predictions.csv')\n",
        "test_prediction_nn = pd.read_csv('/content/drive/My Drive/credit/test_predictions.csv')\n",
        "\n",
        "prediction_lgbm = pd.read_csv('/content/drive/My Drive/credit/train_predictions_lgbm.csv')\n",
        "test_prediction_lgbm = pd.read_csv('/content/drive/My Drive/credit/test_predictions_lgbm.csv')"
      ],
      "execution_count": 0,
      "outputs": []
    },
    {
      "cell_type": "code",
      "metadata": {
        "id": "yC0MoJIc_f_M",
        "colab_type": "code",
        "colab": {}
      },
      "source": [
        "prediction_nn = prediction_nn[['idx', 'preds', 'target']]\n",
        "test_prediction_nn = test_prediction_nn[['idx', 'preds']]"
      ],
      "execution_count": 0,
      "outputs": []
    },
    {
      "cell_type": "code",
      "metadata": {
        "id": "5mKQAwiuAU9E",
        "colab_type": "code",
        "colab": {}
      },
      "source": [
        "prediction_lgbm = prediction_lgbm[['idx', 'preds_1', 'target']]\n",
        "test_prediction_lgbm = test_prediction_lgbm[['idx', 'preds_1']]"
      ],
      "execution_count": 0,
      "outputs": []
    },
    {
      "cell_type": "markdown",
      "metadata": {
        "id": "V3E3H2mFqHeX",
        "colab_type": "text"
      },
      "source": [
        "Merging tables:"
      ]
    },
    {
      "cell_type": "code",
      "metadata": {
        "id": "t2G0of1zAU40",
        "colab_type": "code",
        "colab": {}
      },
      "source": [
        "overall = prediction_lgbm.merge(prediction_nn, left_on='idx', right_on='idx').drop(columns='target_x')"
      ],
      "execution_count": 0,
      "outputs": []
    },
    {
      "cell_type": "code",
      "metadata": {
        "id": "CxwRpq-VAU3E",
        "colab_type": "code",
        "colab": {}
      },
      "source": [
        "to_predict = test_prediction_lgbm.merge(test_prediction_nn, left_on='idx', right_on='idx')"
      ],
      "execution_count": 0,
      "outputs": []
    },
    {
      "cell_type": "markdown",
      "metadata": {
        "id": "jNCb-miQqVMd",
        "colab_type": "text"
      },
      "source": [
        "Let's have a look how our features looks like:"
      ]
    },
    {
      "cell_type": "code",
      "metadata": {
        "id": "ShUE2_81FLvI",
        "colab_type": "code",
        "outputId": "18005b74-7c2e-4cad-f473-ad359417d49c",
        "colab": {
          "base_uri": "https://localhost:8080/",
          "height": 264
        }
      },
      "source": [
        "fig, ax = plt.subplots()\n",
        "scatter = ax.scatter(x=overall.preds, y=overall.preds_1, c=overall.target_y)\n",
        "legend1 = ax.legend(*scatter.legend_elements(),\n",
        "                    loc=\"lower left\", title=\"Classes\")\n",
        "ax.add_artist(legend1)\n",
        "plt.show()"
      ],
      "execution_count": 0,
      "outputs": [
        {
          "output_type": "display_data",
          "data": {
            "image/png": "[encoded data removed]",
            "text/plain": [
              "<Figure size 432x288 with 1 Axes>"
            ]
          },
          "metadata": {
            "tags": []
          }
        }
      ]
    },
    {
      "cell_type": "markdown",
      "metadata": {
        "id": "lEgjKoE3Nlvr",
        "colab_type": "text"
      },
      "source": [
        "The reason for the negative correlation is that when I took the probabilities of Neural Net, I took the first column that corresponded to the probability of belonging to 0's class. So we just subtract the probabilities from 1:"
      ]
    },
    {
      "cell_type": "code",
      "metadata": {
        "id": "D7faf9HSNo8E",
        "colab_type": "code",
        "colab": {}
      },
      "source": [
        "overall['preds'] = 1-overall['preds']"
      ],
      "execution_count": 0,
      "outputs": []
    },
    {
      "cell_type": "code",
      "metadata": {
        "id": "FPXHs79XOGce",
        "colab_type": "code",
        "outputId": "bc1c5d11-ff5d-4c7f-b1ef-7a214e2f8b77",
        "colab": {
          "base_uri": "https://localhost:8080/",
          "height": 264
        }
      },
      "source": [
        "fig, ax = plt.subplots()\n",
        "scatter = ax.scatter(x=overall.preds, y=overall.preds_1, c=overall.target_y)\n",
        "legend1 = ax.legend(*scatter.legend_elements(),\n",
        "                    loc=\"upper left\", title=\"Classes\")\n",
        "ax.add_artist(legend1)\n",
        "plt.show()"
      ],
      "execution_count": 0,
      "outputs": [
        {
          "output_type": "display_data",
          "data": {
            "image/png": "[encoded data removed]",
            "text/plain": [
              "<Figure size 432x288 with 1 Axes>"
            ]
          },
          "metadata": {
            "tags": []
          }
        }
      ]
    },
    {
      "cell_type": "markdown",
      "metadata": {
        "id": "2i_zn600rTrh",
        "colab_type": "text"
      },
      "source": [
        "Looks much better.\n",
        "\n",
        "As it's obvious that data in non linearly separable I would like to choose SVM. And also the reason I choose SVM because is a strong classifier, and one of the advantages of it is that it is not prone to overfit:"
      ]
    },
    {
      "cell_type": "code",
      "metadata": {
        "id": "yl9ciSq9ObIe",
        "colab_type": "code",
        "colab": {}
      },
      "source": [
        "from sklearn.svm import SVC"
      ],
      "execution_count": 0,
      "outputs": []
    },
    {
      "cell_type": "code",
      "metadata": {
        "id": "sbUt6rzbPkFA",
        "colab_type": "code",
        "outputId": "2b18f04a-f58b-4ddc-93f0-ec5c5463b660",
        "colab": {
          "base_uri": "https://localhost:8080/",
          "height": 197
        }
      },
      "source": [
        "overall.head()"
      ],
      "execution_count": 0,
      "outputs": [
        {
          "output_type": "execute_result",
          "data": {
            "text/html": [
              "<div>\n",
              "<style scoped>\n",
              "    .dataframe tbody tr th:only-of-type {\n",
              "        vertical-align: middle;\n",
              "    }\n",
              "\n",
              "    .dataframe tbody tr th {\n",
              "        vertical-align: top;\n",
              "    }\n",
              "\n",
              "    .dataframe thead th {\n",
              "        text-align: right;\n",
              "    }\n",
              "</style>\n",
              "<table border=\"1\" class=\"dataframe\">\n",
              "  <thead>\n",
              "    <tr style=\"text-align: right;\">\n",
              "      <th></th>\n",
              "      <th>idx</th>\n",
              "      <th>preds_1</th>\n",
              "      <th>preds</th>\n",
              "      <th>target_y</th>\n",
              "    </tr>\n",
              "  </thead>\n",
              "  <tbody>\n",
              "    <tr>\n",
              "      <th>0</th>\n",
              "      <td>4</td>\n",
              "      <td>0.640971</td>\n",
              "      <td>0.678336</td>\n",
              "      <td>1</td>\n",
              "    </tr>\n",
              "    <tr>\n",
              "      <th>1</th>\n",
              "      <td>10</td>\n",
              "      <td>0.063405</td>\n",
              "      <td>0.057729</td>\n",
              "      <td>1</td>\n",
              "    </tr>\n",
              "    <tr>\n",
              "      <th>2</th>\n",
              "      <td>21</td>\n",
              "      <td>0.477548</td>\n",
              "      <td>0.647614</td>\n",
              "      <td>1</td>\n",
              "    </tr>\n",
              "    <tr>\n",
              "      <th>3</th>\n",
              "      <td>43</td>\n",
              "      <td>0.342983</td>\n",
              "      <td>0.495958</td>\n",
              "      <td>1</td>\n",
              "    </tr>\n",
              "    <tr>\n",
              "      <th>4</th>\n",
              "      <td>65</td>\n",
              "      <td>0.290485</td>\n",
              "      <td>0.523644</td>\n",
              "      <td>1</td>\n",
              "    </tr>\n",
              "  </tbody>\n",
              "</table>\n",
              "</div>"
            ],
            "text/plain": [
              "   idx   preds_1     preds  target_y\n",
              "0    4  0.640971  0.678336         1\n",
              "1   10  0.063405  0.057729         1\n",
              "2   21  0.477548  0.647614         1\n",
              "3   43  0.342983  0.495958         1\n",
              "4   65  0.290485  0.523644         1"
            ]
          },
          "metadata": {
            "tags": []
          },
          "execution_count": 162
        }
      ]
    },
    {
      "cell_type": "code",
      "metadata": {
        "id": "QrQlB9q_OggY",
        "colab_type": "code",
        "outputId": "cf940af9-8aa8-441a-b32f-3b9b19b2a05a",
        "colab": {
          "base_uri": "https://localhost:8080/",
          "height": 52
        }
      },
      "source": [
        "clf = SVC(kernel='rbf', class_weight='balanced')\n",
        "\n",
        "X = overall.drop(columns=['target_y', 'idx'])\n",
        "y = overall['target_y']\n",
        "res3 = cross_validate(clf, X, y, scoring=['f1', 'recall'], n_jobs=-1, cv=5, return_train_score=True, verbose=1)"
      ],
      "execution_count": 0,
      "outputs": [
        {
          "output_type": "stream",
          "text": [
            "[Parallel(n_jobs=-1)]: Using backend LokyBackend with 2 concurrent workers.\n",
            "[Parallel(n_jobs=-1)]: Done   5 out of   5 | elapsed:   24.9s finished\n"
          ],
          "name": "stderr"
        }
      ]
    },
    {
      "cell_type": "code",
      "metadata": {
        "id": "nowWR7j7P1xP",
        "colab_type": "code",
        "outputId": "e9fe2637-6b2b-433d-844a-56aced5bebbe",
        "colab": {
          "base_uri": "https://localhost:8080/",
          "height": 87
        }
      },
      "source": [
        "print('Test F1: % 0.4f \\nTrain F1: % 0.4f \\nTest Recall:% 0.4f \\nTrain Recall: % 0.4f ' % (np.mean(res3['test_f1']), \n",
        "                                                                                          np.mean(res3['train_f1']),\n",
        "                                                                                          np.mean(res3['test_recall']),\n",
        "                                                                                          np.mean(res3['train_recall'])))"
      ],
      "execution_count": 0,
      "outputs": [
        {
          "output_type": "stream",
          "text": [
            "Test F1:  0.3487 \n",
            "Train F1:  0.3500 \n",
            "Test Recall: 0.7498 \n",
            "Train Recall:  0.7536 \n"
          ],
          "name": "stdout"
        }
      ]
    },
    {
      "cell_type": "markdown",
      "metadata": {
        "id": "utfTflWCsCO5",
        "colab_type": "text"
      },
      "source": [
        "During cross validation it showed pretty hopeful results, so let's fit the model and make submission:"
      ]
    },
    {
      "cell_type": "code",
      "metadata": {
        "id": "xSaqWNrQP2nn",
        "colab_type": "code",
        "colab": {}
      },
      "source": [
        "X_test = to_predict.drop(columns='idx')\n",
        "clf.fit(X, y)\n",
        "sub = clf.predict(X_test)"
      ],
      "execution_count": 0,
      "outputs": []
    },
    {
      "cell_type": "code",
      "metadata": {
        "id": "d4i1lZ-VTqoy",
        "colab_type": "code",
        "colab": {}
      },
      "source": [
        "submission = pd.DataFrame(sub,  columns=['target'])\n"
      ],
      "execution_count": 0,
      "outputs": []
    },
    {
      "cell_type": "code",
      "metadata": {
        "id": "mCmgCoULUDht",
        "colab_type": "code",
        "colab": {}
      },
      "source": [
        "submission.to_csv('/content/drive/My Drive/credit/final_submission.csv')"
      ],
      "execution_count": 0,
      "outputs": []
    }
  ]
}