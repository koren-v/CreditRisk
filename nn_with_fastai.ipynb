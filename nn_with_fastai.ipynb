{
  "nbformat": 4,
  "nbformat_minor": 0,
  "metadata": {
    "colab": {
      "name": "credit_nice_try.ipynb",
      "provenance": [],
      "collapsed_sections": []
    },
    "kernelspec": {
      "name": "python3",
      "display_name": "Python 3"
    }
  },
  "cells": [
    {
      "cell_type": "code",
      "metadata": {
        "id": "EMdZU_fjNcfz",
        "colab_type": "code",
        "outputId": "0ab22e6c-1e02-4acf-9e0c-8bf1423370b7",
        "colab": {
          "base_uri": "https://localhost:8080/",
          "height": 125
        }
      },
      "source": [
        "from google.colab import drive\n",
        "drive.mount('/content/drive')"
      ],
      "execution_count": 0,
      "outputs": [
        {
          "output_type": "stream",
          "text": [
            "Go to this URL in a browser: https://accounts.google.com/o/oauth2/auth?client_id=947318989803-6bn6qk8qdgf4n4g3pfee6491hc0brc4i.apps.googleusercontent.com&redirect_uri=urn%3aietf%3awg%3aoauth%3a2.0%3aoob&response_type=code&scope=email%20https%3a%2f%2fwww.googleapis.com%2fauth%2fdocs.test%20https%3a%2f%2fwww.googleapis.com%2fauth%2fdrive%20https%3a%2f%2fwww.googleapis.com%2fauth%2fdrive.photos.readonly%20https%3a%2f%2fwww.googleapis.com%2fauth%2fpeopleapi.readonly\n",
            "\n",
            "Enter your authorization code:\n",
            "··········\n",
            "Mounted at /content/drive\n"
          ],
          "name": "stdout"
        }
      ]
    },
    {
      "cell_type": "code",
      "metadata": {
        "id": "nDtCQMSLNuPp",
        "colab_type": "code",
        "colab": {}
      },
      "source": [
        "import pandas as pd"
      ],
      "execution_count": 0,
      "outputs": []
    },
    {
      "cell_type": "code",
      "metadata": {
        "id": "rQlMJ8QgNqDv",
        "colab_type": "code",
        "colab": {}
      },
      "source": [
        "train_ds = pd.read_csv('/content/drive/My Drive/credit/trainDS.csv')\n",
        "test_ds = pd.read_csv('/content/drive/My Drive/credit/testDS.csv')"
      ],
      "execution_count": 0,
      "outputs": []
    },
    {
      "cell_type": "markdown",
      "metadata": {
        "id": "Kpbxq9tPk-D2",
        "colab_type": "text"
      },
      "source": [
        "Let's start from source data, making a little data preprocessing:"
      ]
    },
    {
      "cell_type": "code",
      "metadata": {
        "id": "CW8q_n6CNtJu",
        "colab_type": "code",
        "colab": {}
      },
      "source": [
        "from fastai.tabular import *"
      ],
      "execution_count": 0,
      "outputs": []
    },
    {
      "cell_type": "markdown",
      "metadata": {
        "id": "dcPx8Jc2lX-P",
        "colab_type": "text"
      },
      "source": [
        "As it Neural Net, we can't just put to input categorical features without data preprocessing such as scaling, embedding etc.\n",
        "\n",
        "So, fastai will do it for us:"
      ]
    },
    {
      "cell_type": "code",
      "metadata": {
        "id": "iXJ1VqQpN5LT",
        "colab_type": "code",
        "colab": {}
      },
      "source": [
        "dep_var = 'target'\n",
        "cat_names = ['feature2', 'feature5', 'feature6', 'feature7', 'feature8', 'feature9','feature4']\n",
        "cont_names = ['age', 'feature1', 'feature3']\n",
        "procs = [FillMissing, Categorify, Normalize]"
      ],
      "execution_count": 0,
      "outputs": []
    },
    {
      "cell_type": "code",
      "metadata": {
        "id": "MOPWTwfUVN3c",
        "colab_type": "code",
        "colab": {}
      },
      "source": [
        "train_ds.feature4 = train_ds.feature4.replace(' ', '')\n",
        "train_ds.feature9 = train_ds.feature9.replace(' ', '')"
      ],
      "execution_count": 0,
      "outputs": []
    },
    {
      "cell_type": "code",
      "metadata": {
        "id": "0t5upmwtTPub",
        "colab_type": "code",
        "outputId": "52314b66-1741-4d36-f760-f23e9c490c3d",
        "colab": {
          "base_uri": "https://localhost:8080/",
          "height": 406
        }
      },
      "source": [
        "train_ds = train_ds.sort_values(by='target', ascending=False)\n",
        "train_ds"
      ],
      "execution_count": 0,
      "outputs": [
        {
          "output_type": "execute_result",
          "data": {
            "text/html": [
              "<div>\n",
              "<style scoped>\n",
              "    .dataframe tbody tr th:only-of-type {\n",
              "        vertical-align: middle;\n",
              "    }\n",
              "\n",
              "    .dataframe tbody tr th {\n",
              "        vertical-align: top;\n",
              "    }\n",
              "\n",
              "    .dataframe thead th {\n",
              "        text-align: right;\n",
              "    }\n",
              "</style>\n",
              "<table border=\"1\" class=\"dataframe\">\n",
              "  <thead>\n",
              "    <tr style=\"text-align: right;\">\n",
              "      <th></th>\n",
              "      <th>feature1</th>\n",
              "      <th>age</th>\n",
              "      <th>feature2</th>\n",
              "      <th>feature3</th>\n",
              "      <th>feature4</th>\n",
              "      <th>feature5</th>\n",
              "      <th>feature6</th>\n",
              "      <th>feature7</th>\n",
              "      <th>feature8</th>\n",
              "      <th>feature9</th>\n",
              "      <th>target</th>\n",
              "    </tr>\n",
              "  </thead>\n",
              "  <tbody>\n",
              "    <tr>\n",
              "      <th>18952</th>\n",
              "      <td>1.000000</td>\n",
              "      <td>29</td>\n",
              "      <td>1</td>\n",
              "      <td>529.000000</td>\n",
              "      <td>1300</td>\n",
              "      <td>3</td>\n",
              "      <td>1</td>\n",
              "      <td>0</td>\n",
              "      <td>1</td>\n",
              "      <td>0</td>\n",
              "      <td>1</td>\n",
              "    </tr>\n",
              "    <tr>\n",
              "      <th>9314</th>\n",
              "      <td>0.124761</td>\n",
              "      <td>29</td>\n",
              "      <td>0</td>\n",
              "      <td>0.841542</td>\n",
              "      <td>1400</td>\n",
              "      <td>6</td>\n",
              "      <td>0</td>\n",
              "      <td>0</td>\n",
              "      <td>0</td>\n",
              "      <td>0</td>\n",
              "      <td>1</td>\n",
              "    </tr>\n",
              "    <tr>\n",
              "      <th>9309</th>\n",
              "      <td>0.497543</td>\n",
              "      <td>40</td>\n",
              "      <td>0</td>\n",
              "      <td>0.198534</td>\n",
              "      <td>1500</td>\n",
              "      <td>4</td>\n",
              "      <td>2</td>\n",
              "      <td>0</td>\n",
              "      <td>0</td>\n",
              "      <td>0</td>\n",
              "      <td>1</td>\n",
              "    </tr>\n",
              "    <tr>\n",
              "      <th>29876</th>\n",
              "      <td>0.203918</td>\n",
              "      <td>59</td>\n",
              "      <td>4</td>\n",
              "      <td>0.110979</td>\n",
              "      <td>12587</td>\n",
              "      <td>8</td>\n",
              "      <td>0</td>\n",
              "      <td>0</td>\n",
              "      <td>1</td>\n",
              "      <td>0</td>\n",
              "      <td>1</td>\n",
              "    </tr>\n",
              "    <tr>\n",
              "      <th>9302</th>\n",
              "      <td>0.839109</td>\n",
              "      <td>45</td>\n",
              "      <td>1</td>\n",
              "      <td>0.611049</td>\n",
              "      <td>3583</td>\n",
              "      <td>16</td>\n",
              "      <td>0</td>\n",
              "      <td>0</td>\n",
              "      <td>0</td>\n",
              "      <td>4</td>\n",
              "      <td>1</td>\n",
              "    </tr>\n",
              "    <tr>\n",
              "      <th>...</th>\n",
              "      <td>...</td>\n",
              "      <td>...</td>\n",
              "      <td>...</td>\n",
              "      <td>...</td>\n",
              "      <td>...</td>\n",
              "      <td>...</td>\n",
              "      <td>...</td>\n",
              "      <td>...</td>\n",
              "      <td>...</td>\n",
              "      <td>...</td>\n",
              "      <td>...</td>\n",
              "    </tr>\n",
              "    <tr>\n",
              "      <th>25305</th>\n",
              "      <td>0.232698</td>\n",
              "      <td>37</td>\n",
              "      <td>0</td>\n",
              "      <td>0.088482</td>\n",
              "      <td>3333</td>\n",
              "      <td>5</td>\n",
              "      <td>0</td>\n",
              "      <td>0</td>\n",
              "      <td>0</td>\n",
              "      <td>0</td>\n",
              "      <td>0</td>\n",
              "    </tr>\n",
              "    <tr>\n",
              "      <th>25306</th>\n",
              "      <td>0.004256</td>\n",
              "      <td>48</td>\n",
              "      <td>0</td>\n",
              "      <td>0.518332</td>\n",
              "      <td>12300</td>\n",
              "      <td>12</td>\n",
              "      <td>0</td>\n",
              "      <td>3</td>\n",
              "      <td>0</td>\n",
              "      <td>2</td>\n",
              "      <td>0</td>\n",
              "    </tr>\n",
              "    <tr>\n",
              "      <th>25307</th>\n",
              "      <td>0.922164</td>\n",
              "      <td>37</td>\n",
              "      <td>0</td>\n",
              "      <td>0.420341</td>\n",
              "      <td>1700</td>\n",
              "      <td>7</td>\n",
              "      <td>0</td>\n",
              "      <td>0</td>\n",
              "      <td>0</td>\n",
              "      <td>0</td>\n",
              "      <td>0</td>\n",
              "    </tr>\n",
              "    <tr>\n",
              "      <th>25308</th>\n",
              "      <td>0.064688</td>\n",
              "      <td>60</td>\n",
              "      <td>0</td>\n",
              "      <td>0.202250</td>\n",
              "      <td>10664</td>\n",
              "      <td>22</td>\n",
              "      <td>0</td>\n",
              "      <td>3</td>\n",
              "      <td>0</td>\n",
              "      <td>1</td>\n",
              "      <td>0</td>\n",
              "    </tr>\n",
              "    <tr>\n",
              "      <th>73275</th>\n",
              "      <td>0.783699</td>\n",
              "      <td>49</td>\n",
              "      <td>2</td>\n",
              "      <td>0.598214</td>\n",
              "      <td>5039</td>\n",
              "      <td>5</td>\n",
              "      <td>1</td>\n",
              "      <td>1</td>\n",
              "      <td>0</td>\n",
              "      <td>1</td>\n",
              "      <td>0</td>\n",
              "    </tr>\n",
              "  </tbody>\n",
              "</table>\n",
              "<p>73276 rows × 11 columns</p>\n",
              "</div>"
            ],
            "text/plain": [
              "       feature1  age  feature2    feature3  ... feature7  feature8  feature9  target\n",
              "18952  1.000000   29         1  529.000000  ...        0         1         0       1\n",
              "9314   0.124761   29         0    0.841542  ...        0         0         0       1\n",
              "9309   0.497543   40         0    0.198534  ...        0         0         0       1\n",
              "29876  0.203918   59         4    0.110979  ...        0         1         0       1\n",
              "9302   0.839109   45         1    0.611049  ...        0         0         4       1\n",
              "...         ...  ...       ...         ...  ...      ...       ...       ...     ...\n",
              "25305  0.232698   37         0    0.088482  ...        0         0         0       0\n",
              "25306  0.004256   48         0    0.518332  ...        3         0         2       0\n",
              "25307  0.922164   37         0    0.420341  ...        0         0         0       0\n",
              "25308  0.064688   60         0    0.202250  ...        3         0         1       0\n",
              "73275  0.783699   49         2    0.598214  ...        1         0         1       0\n",
              "\n",
              "[73276 rows x 11 columns]"
            ]
          },
          "metadata": {
            "tags": []
          },
          "execution_count": 7
        }
      ]
    },
    {
      "cell_type": "code",
      "metadata": {
        "id": "-uZFyC2qQ39t",
        "colab_type": "code",
        "colab": {}
      },
      "source": [
        "data = (TabularList.from_df(train_ds, cat_names=cat_names, cont_names=cont_names, procs=procs)\n",
        "                           .split_by_idx(list(range(3915,17590)))\n",
        "                           .label_from_df(cols=dep_var)\n",
        "                           .add_test(test_ds)\n",
        "                           .databunch())"
      ],
      "execution_count": 0,
      "outputs": []
    },
    {
      "cell_type": "markdown",
      "metadata": {
        "id": "defKw3B0mYyZ",
        "colab_type": "text"
      },
      "source": [
        "Defining model:"
      ]
    },
    {
      "cell_type": "code",
      "metadata": {
        "id": "vFo9Z5icWhq8",
        "colab_type": "code",
        "outputId": "6b558b93-2f25-4949-a3bd-e4968fed1920",
        "colab": {
          "base_uri": "https://localhost:8080/",
          "height": 407
        }
      },
      "source": [
        "f1 = FBeta(beta=1)\n",
        "recall = Recall()\n",
        "learn = tabular_learner(data, \n",
        "                        layers=[200,100],\n",
        "                        metrics = [f1, recall])\n",
        "\n",
        "learn.model"
      ],
      "execution_count": 0,
      "outputs": [
        {
          "output_type": "execute_result",
          "data": {
            "text/plain": [
              "TabularModel(\n",
              "  (embeds): ModuleList(\n",
              "    (0): Embedding(6, 4)\n",
              "    (1): Embedding(24, 9)\n",
              "    (2): Embedding(5, 4)\n",
              "    (3): Embedding(6, 4)\n",
              "    (4): Embedding(4, 3)\n",
              "    (5): Embedding(7, 5)\n",
              "    (6): Embedding(8867, 260)\n",
              "  )\n",
              "  (emb_drop): Dropout(p=0.0, inplace=False)\n",
              "  (bn_cont): BatchNorm1d(3, eps=1e-05, momentum=0.1, affine=True, track_running_stats=True)\n",
              "  (layers): Sequential(\n",
              "    (0): Linear(in_features=292, out_features=200, bias=True)\n",
              "    (1): ReLU(inplace=True)\n",
              "    (2): BatchNorm1d(200, eps=1e-05, momentum=0.1, affine=True, track_running_stats=True)\n",
              "    (3): Linear(in_features=200, out_features=100, bias=True)\n",
              "    (4): ReLU(inplace=True)\n",
              "    (5): BatchNorm1d(100, eps=1e-05, momentum=0.1, affine=True, track_running_stats=True)\n",
              "    (6): Linear(in_features=100, out_features=2, bias=True)\n",
              "  )\n",
              ")"
            ]
          },
          "metadata": {
            "tags": []
          },
          "execution_count": 83
        }
      ]
    },
    {
      "cell_type": "code",
      "metadata": {
        "id": "mwUS1V5KYCJ2",
        "colab_type": "code",
        "outputId": "e1078d0e-e0e4-433b-827e-99c2d5529d52",
        "colab": {
          "base_uri": "https://localhost:8080/",
          "height": 112
        }
      },
      "source": [
        "learn.lr_find()"
      ],
      "execution_count": 0,
      "outputs": [
        {
          "output_type": "display_data",
          "data": {
            "text/html": [
              "\n",
              "    <div>\n",
              "        <style>\n",
              "            /* Turns off some styling */\n",
              "            progress {\n",
              "                /* gets rid of default border in Firefox and Opera. */\n",
              "                border: none;\n",
              "                /* Needs to be in here for Safari polyfill so background images work as expected. */\n",
              "                background-size: auto;\n",
              "            }\n",
              "            .progress-bar-interrupted, .progress-bar-interrupted::-webkit-progress-bar {\n",
              "                background: #F44336;\n",
              "            }\n",
              "        </style>\n",
              "      <progress value='0' class='' max='1', style='width:300px; height:20px; vertical-align: middle;'></progress>\n",
              "      0.00% [0/1 00:00<00:00]\n",
              "    </div>\n",
              "    \n",
              "<table border=\"1\" class=\"dataframe\">\n",
              "  <thead>\n",
              "    <tr style=\"text-align: left;\">\n",
              "      <th>epoch</th>\n",
              "      <th>train_loss</th>\n",
              "      <th>valid_loss</th>\n",
              "      <th>f_beta</th>\n",
              "      <th>recall</th>\n",
              "      <th>time</th>\n",
              "    </tr>\n",
              "  </thead>\n",
              "  <tbody>\n",
              "  </tbody>\n",
              "</table><p>\n",
              "\n",
              "    <div>\n",
              "        <style>\n",
              "            /* Turns off some styling */\n",
              "            progress {\n",
              "                /* gets rid of default border in Firefox and Opera. */\n",
              "                border: none;\n",
              "                /* Needs to be in here for Safari polyfill so background images work as expected. */\n",
              "                background-size: auto;\n",
              "            }\n",
              "            .progress-bar-interrupted, .progress-bar-interrupted::-webkit-progress-bar {\n",
              "                background: #F44336;\n",
              "            }\n",
              "        </style>\n",
              "      <progress value='87' class='' max='931', style='width:300px; height:20px; vertical-align: middle;'></progress>\n",
              "      9.34% [87/931 00:04<00:39 0.6897]\n",
              "    </div>\n",
              "    "
            ],
            "text/plain": [
              "<IPython.core.display.HTML object>"
            ]
          },
          "metadata": {
            "tags": []
          }
        },
        {
          "output_type": "stream",
          "text": [
            "LR Finder is complete, type {learner_name}.recorder.plot() to see the graph.\n"
          ],
          "name": "stdout"
        }
      ]
    },
    {
      "cell_type": "code",
      "metadata": {
        "id": "npngcoxVYIOI",
        "colab_type": "code",
        "outputId": "f999ca4e-4346-4634-dfa8-c2cea9bc7493",
        "colab": {
          "base_uri": "https://localhost:8080/",
          "height": 314
        }
      },
      "source": [
        "learn.recorder.plot(suggestion=True)"
      ],
      "execution_count": 0,
      "outputs": [
        {
          "output_type": "stream",
          "text": [
            "Min numerical gradient: 3.98E-02\n",
            "Min loss divided by 10: 2.09E-02\n"
          ],
          "name": "stdout"
        },
        {
          "output_type": "display_data",
          "data": {
            "image/png": "[encoded data removed]",
            "text/plain": [
              "<Figure size 432x288 with 1 Axes>"
            ]
          },
          "metadata": {
            "tags": []
          }
        }
      ]
    },
    {
      "cell_type": "code",
      "metadata": {
        "id": "eZoRpZEMXtJw",
        "colab_type": "code",
        "outputId": "21a0ed50-5051-4fa0-fc1d-d79e52e515b4",
        "colab": {
          "base_uri": "https://localhost:8080/",
          "height": 77
        }
      },
      "source": [
        "learn.fit_one_cycle(1, 1e-2)"
      ],
      "execution_count": 0,
      "outputs": [
        {
          "output_type": "display_data",
          "data": {
            "text/html": [
              "<table border=\"1\" class=\"dataframe\">\n",
              "  <thead>\n",
              "    <tr style=\"text-align: left;\">\n",
              "      <th>epoch</th>\n",
              "      <th>train_loss</th>\n",
              "      <th>valid_loss</th>\n",
              "      <th>f_beta</th>\n",
              "      <th>recall</th>\n",
              "      <th>time</th>\n",
              "    </tr>\n",
              "  </thead>\n",
              "  <tbody>\n",
              "    <tr>\n",
              "      <td>0</td>\n",
              "      <td>0.183795</td>\n",
              "      <td>0.189690</td>\n",
              "      <td>0.354325</td>\n",
              "      <td>0.261491</td>\n",
              "      <td>00:40</td>\n",
              "    </tr>\n",
              "  </tbody>\n",
              "</table>"
            ],
            "text/plain": [
              "<IPython.core.display.HTML object>"
            ]
          },
          "metadata": {
            "tags": []
          }
        }
      ]
    },
    {
      "cell_type": "markdown",
      "metadata": {
        "id": "IqmFNbUzmgzU",
        "colab_type": "text"
      },
      "source": [
        "It looks better than RF's performance.\n",
        "\n",
        "We will save this model:"
      ]
    },
    {
      "cell_type": "code",
      "metadata": {
        "id": "ztYliT1s5y8d",
        "colab_type": "code",
        "colab": {}
      },
      "source": [
        "learn.save('first_model')"
      ],
      "execution_count": 0,
      "outputs": []
    },
    {
      "cell_type": "code",
      "metadata": {
        "id": "cl3fTMkmiluG",
        "colab_type": "code",
        "outputId": "86121a66-c56e-4608-9184-0b7d9d8e5e0c",
        "colab": {
          "base_uri": "https://localhost:8080/",
          "height": 16
        }
      },
      "source": [
        "preds,y,losses = learn.get_preds(with_loss=True)\n",
        "interp = ClassificationInterpretation(learn, preds, y, losses)"
      ],
      "execution_count": 0,
      "outputs": [
        {
          "output_type": "display_data",
          "data": {
            "text/html": [
              ""
            ],
            "text/plain": [
              "<IPython.core.display.HTML object>"
            ]
          },
          "metadata": {
            "tags": []
          }
        }
      ]
    },
    {
      "cell_type": "code",
      "metadata": {
        "id": "DvVVYSu7izXD",
        "colab_type": "code",
        "outputId": "dcefcc35-0728-4f0f-b0df-6ad4bd6c060b",
        "colab": {
          "base_uri": "https://localhost:8080/",
          "height": 311
        }
      },
      "source": [
        "interp.plot_confusion_matrix()"
      ],
      "execution_count": 0,
      "outputs": [
        {
          "output_type": "display_data",
          "data": {
            "image/png": "[encoded data removed]",
            "text/plain": [
              "<Figure size 432x288 with 1 Axes>"
            ]
          },
          "metadata": {
            "tags": []
          }
        }
      ]
    },
    {
      "cell_type": "code",
      "metadata": {
        "id": "MhsaZPEw8xNe",
        "colab_type": "code",
        "colab": {}
      },
      "source": [
        "# learn.load('first_model');"
      ],
      "execution_count": 0,
      "outputs": []
    },
    {
      "cell_type": "markdown",
      "metadata": {
        "id": "mdM5reB1m_Tj",
        "colab_type": "text"
      },
      "source": [
        "It's time to try preprocesed data:"
      ]
    },
    {
      "cell_type": "code",
      "metadata": {
        "id": "5BsUbI1q8_BD",
        "colab_type": "code",
        "colab": {}
      },
      "source": [
        "new_train_ds = pd.read_csv('/content/drive/My Drive/credit/new_trainDS.csv')\n",
        "new_test_ds = pd.read_csv('/content/drive/My Drive/credit/new_testDS.csv')"
      ],
      "execution_count": 0,
      "outputs": []
    },
    {
      "cell_type": "code",
      "metadata": {
        "id": "9n8hLg_59M5F",
        "colab_type": "code",
        "outputId": "ee5c1890-4c63-446c-e172-76ccd3f7dbea",
        "colab": {
          "base_uri": "https://localhost:8080/",
          "height": 197
        }
      },
      "source": [
        "new_train_ds.head()"
      ],
      "execution_count": 0,
      "outputs": [
        {
          "output_type": "execute_result",
          "data": {
            "text/html": [
              "<div>\n",
              "<style scoped>\n",
              "    .dataframe tbody tr th:only-of-type {\n",
              "        vertical-align: middle;\n",
              "    }\n",
              "\n",
              "    .dataframe tbody tr th {\n",
              "        vertical-align: top;\n",
              "    }\n",
              "\n",
              "    .dataframe thead th {\n",
              "        text-align: right;\n",
              "    }\n",
              "</style>\n",
              "<table border=\"1\" class=\"dataframe\">\n",
              "  <thead>\n",
              "    <tr style=\"text-align: right;\">\n",
              "      <th></th>\n",
              "      <th>Unnamed: 0</th>\n",
              "      <th>feature1</th>\n",
              "      <th>age</th>\n",
              "      <th>feature2</th>\n",
              "      <th>feature3</th>\n",
              "      <th>feature4</th>\n",
              "      <th>feature5</th>\n",
              "      <th>feature6</th>\n",
              "      <th>feature7</th>\n",
              "      <th>feature8</th>\n",
              "      <th>feature9</th>\n",
              "      <th>target</th>\n",
              "      <th>ranked_feature3</th>\n",
              "      <th>feature4_is_none</th>\n",
              "      <th>feature9_is_none</th>\n",
              "    </tr>\n",
              "  </thead>\n",
              "  <tbody>\n",
              "    <tr>\n",
              "      <th>0</th>\n",
              "      <td>0</td>\n",
              "      <td>0.001963</td>\n",
              "      <td>42</td>\n",
              "      <td>0</td>\n",
              "      <td>0.079941</td>\n",
              "      <td>0.054000</td>\n",
              "      <td>7</td>\n",
              "      <td>0</td>\n",
              "      <td>0</td>\n",
              "      <td>0</td>\n",
              "      <td>0.0</td>\n",
              "      <td>0</td>\n",
              "      <td>0.143922</td>\n",
              "      <td>False</td>\n",
              "      <td>False</td>\n",
              "    </tr>\n",
              "    <tr>\n",
              "      <th>1</th>\n",
              "      <td>1</td>\n",
              "      <td>0.004538</td>\n",
              "      <td>86</td>\n",
              "      <td>0</td>\n",
              "      <td>3.000000</td>\n",
              "      <td>0.205608</td>\n",
              "      <td>2</td>\n",
              "      <td>0</td>\n",
              "      <td>0</td>\n",
              "      <td>0</td>\n",
              "      <td>0.0</td>\n",
              "      <td>0</td>\n",
              "      <td>0.768273</td>\n",
              "      <td>True</td>\n",
              "      <td>True</td>\n",
              "    </tr>\n",
              "    <tr>\n",
              "      <th>2</th>\n",
              "      <td>2</td>\n",
              "      <td>0.023044</td>\n",
              "      <td>61</td>\n",
              "      <td>0</td>\n",
              "      <td>0.419916</td>\n",
              "      <td>0.200000</td>\n",
              "      <td>18</td>\n",
              "      <td>0</td>\n",
              "      <td>2</td>\n",
              "      <td>0</td>\n",
              "      <td>1.0</td>\n",
              "      <td>0</td>\n",
              "      <td>0.560252</td>\n",
              "      <td>False</td>\n",
              "      <td>False</td>\n",
              "    </tr>\n",
              "    <tr>\n",
              "      <th>3</th>\n",
              "      <td>3</td>\n",
              "      <td>0.121242</td>\n",
              "      <td>48</td>\n",
              "      <td>0</td>\n",
              "      <td>0.526589</td>\n",
              "      <td>0.100000</td>\n",
              "      <td>12</td>\n",
              "      <td>0</td>\n",
              "      <td>1</td>\n",
              "      <td>0</td>\n",
              "      <td>1.0</td>\n",
              "      <td>0</td>\n",
              "      <td>0.644618</td>\n",
              "      <td>False</td>\n",
              "      <td>False</td>\n",
              "    </tr>\n",
              "    <tr>\n",
              "      <th>4</th>\n",
              "      <td>4</td>\n",
              "      <td>1.000000</td>\n",
              "      <td>49</td>\n",
              "      <td>3</td>\n",
              "      <td>0.256567</td>\n",
              "      <td>0.236000</td>\n",
              "      <td>3</td>\n",
              "      <td>3</td>\n",
              "      <td>1</td>\n",
              "      <td>1</td>\n",
              "      <td>2.0</td>\n",
              "      <td>1</td>\n",
              "      <td>0.358808</td>\n",
              "      <td>False</td>\n",
              "      <td>False</td>\n",
              "    </tr>\n",
              "  </tbody>\n",
              "</table>\n",
              "</div>"
            ],
            "text/plain": [
              "   Unnamed: 0  feature1  ...  feature4_is_none  feature9_is_none\n",
              "0           0  0.001963  ...             False             False\n",
              "1           1  0.004538  ...              True              True\n",
              "2           2  0.023044  ...             False             False\n",
              "3           3  0.121242  ...             False             False\n",
              "4           4  1.000000  ...             False             False\n",
              "\n",
              "[5 rows x 15 columns]"
            ]
          },
          "metadata": {
            "tags": []
          },
          "execution_count": 91
        }
      ]
    },
    {
      "cell_type": "code",
      "metadata": {
        "id": "G8IiIamF9Vla",
        "colab_type": "code",
        "colab": {}
      },
      "source": [
        "new_cat_names = ['feature2', 'feature5', 'feature6', 'feature7', 'feature8', 'feature9', 'feature4_is_none', 'feature9_is_none']\n",
        "new_cont_names = ['age', 'feature1', 'ranked_feature3', 'feature4']"
      ],
      "execution_count": 0,
      "outputs": []
    },
    {
      "cell_type": "code",
      "metadata": {
        "id": "5j2Ii07K-zUD",
        "colab_type": "code",
        "colab": {}
      },
      "source": [
        "new_train_ds = new_train_ds.sort_values(by='target', ascending=False)\n",
        "new_train_ds = new_train_ds.drop(columns=['feature3', 'Unnamed: 0'])"
      ],
      "execution_count": 0,
      "outputs": []
    },
    {
      "cell_type": "code",
      "metadata": {
        "id": "xderkvH8CRUg",
        "colab_type": "code",
        "outputId": "9c665e41-7320-4ace-a7f5-c8eb899466f5",
        "colab": {
          "base_uri": "https://localhost:8080/",
          "height": 406
        }
      },
      "source": [
        "new_train_ds"
      ],
      "execution_count": 0,
      "outputs": [
        {
          "output_type": "execute_result",
          "data": {
            "text/html": [
              "<div>\n",
              "<style scoped>\n",
              "    .dataframe tbody tr th:only-of-type {\n",
              "        vertical-align: middle;\n",
              "    }\n",
              "\n",
              "    .dataframe tbody tr th {\n",
              "        vertical-align: top;\n",
              "    }\n",
              "\n",
              "    .dataframe thead th {\n",
              "        text-align: right;\n",
              "    }\n",
              "</style>\n",
              "<table border=\"1\" class=\"dataframe\">\n",
              "  <thead>\n",
              "    <tr style=\"text-align: right;\">\n",
              "      <th></th>\n",
              "      <th>feature1</th>\n",
              "      <th>age</th>\n",
              "      <th>feature2</th>\n",
              "      <th>feature4</th>\n",
              "      <th>feature5</th>\n",
              "      <th>feature6</th>\n",
              "      <th>feature7</th>\n",
              "      <th>feature8</th>\n",
              "      <th>feature9</th>\n",
              "      <th>target</th>\n",
              "      <th>ranked_feature3</th>\n",
              "      <th>feature4_is_none</th>\n",
              "      <th>feature9_is_none</th>\n",
              "    </tr>\n",
              "  </thead>\n",
              "  <tbody>\n",
              "    <tr>\n",
              "      <th>18952</th>\n",
              "      <td>1.000000</td>\n",
              "      <td>29</td>\n",
              "      <td>1</td>\n",
              "      <td>0.05200</td>\n",
              "      <td>3</td>\n",
              "      <td>1</td>\n",
              "      <td>0</td>\n",
              "      <td>1</td>\n",
              "      <td>0.0</td>\n",
              "      <td>1</td>\n",
              "      <td>0.864396</td>\n",
              "      <td>False</td>\n",
              "      <td>False</td>\n",
              "    </tr>\n",
              "    <tr>\n",
              "      <th>9314</th>\n",
              "      <td>0.124761</td>\n",
              "      <td>29</td>\n",
              "      <td>0</td>\n",
              "      <td>0.05600</td>\n",
              "      <td>6</td>\n",
              "      <td>0</td>\n",
              "      <td>0</td>\n",
              "      <td>0</td>\n",
              "      <td>0.0</td>\n",
              "      <td>1</td>\n",
              "      <td>0.747707</td>\n",
              "      <td>False</td>\n",
              "      <td>False</td>\n",
              "    </tr>\n",
              "    <tr>\n",
              "      <th>9309</th>\n",
              "      <td>0.497543</td>\n",
              "      <td>40</td>\n",
              "      <td>0</td>\n",
              "      <td>0.06000</td>\n",
              "      <td>4</td>\n",
              "      <td>2</td>\n",
              "      <td>0</td>\n",
              "      <td>0</td>\n",
              "      <td>0.0</td>\n",
              "      <td>1</td>\n",
              "      <td>0.281306</td>\n",
              "      <td>False</td>\n",
              "      <td>False</td>\n",
              "    </tr>\n",
              "    <tr>\n",
              "      <th>29876</th>\n",
              "      <td>0.203918</td>\n",
              "      <td>59</td>\n",
              "      <td>4</td>\n",
              "      <td>0.50348</td>\n",
              "      <td>8</td>\n",
              "      <td>0</td>\n",
              "      <td>0</td>\n",
              "      <td>1</td>\n",
              "      <td>0.0</td>\n",
              "      <td>1</td>\n",
              "      <td>0.175719</td>\n",
              "      <td>False</td>\n",
              "      <td>False</td>\n",
              "    </tr>\n",
              "    <tr>\n",
              "      <th>9302</th>\n",
              "      <td>0.839109</td>\n",
              "      <td>45</td>\n",
              "      <td>1</td>\n",
              "      <td>0.14332</td>\n",
              "      <td>16</td>\n",
              "      <td>0</td>\n",
              "      <td>0</td>\n",
              "      <td>0</td>\n",
              "      <td>4.0</td>\n",
              "      <td>1</td>\n",
              "      <td>0.687196</td>\n",
              "      <td>False</td>\n",
              "      <td>False</td>\n",
              "    </tr>\n",
              "    <tr>\n",
              "      <th>...</th>\n",
              "      <td>...</td>\n",
              "      <td>...</td>\n",
              "      <td>...</td>\n",
              "      <td>...</td>\n",
              "      <td>...</td>\n",
              "      <td>...</td>\n",
              "      <td>...</td>\n",
              "      <td>...</td>\n",
              "      <td>...</td>\n",
              "      <td>...</td>\n",
              "      <td>...</td>\n",
              "      <td>...</td>\n",
              "      <td>...</td>\n",
              "    </tr>\n",
              "    <tr>\n",
              "      <th>25305</th>\n",
              "      <td>0.232698</td>\n",
              "      <td>37</td>\n",
              "      <td>0</td>\n",
              "      <td>0.13332</td>\n",
              "      <td>5</td>\n",
              "      <td>0</td>\n",
              "      <td>0</td>\n",
              "      <td>0</td>\n",
              "      <td>0.0</td>\n",
              "      <td>0</td>\n",
              "      <td>0.152287</td>\n",
              "      <td>False</td>\n",
              "      <td>False</td>\n",
              "    </tr>\n",
              "    <tr>\n",
              "      <th>25306</th>\n",
              "      <td>0.004256</td>\n",
              "      <td>48</td>\n",
              "      <td>0</td>\n",
              "      <td>0.49200</td>\n",
              "      <td>12</td>\n",
              "      <td>0</td>\n",
              "      <td>3</td>\n",
              "      <td>0</td>\n",
              "      <td>2.0</td>\n",
              "      <td>0</td>\n",
              "      <td>0.639609</td>\n",
              "      <td>False</td>\n",
              "      <td>False</td>\n",
              "    </tr>\n",
              "    <tr>\n",
              "      <th>25307</th>\n",
              "      <td>0.922164</td>\n",
              "      <td>37</td>\n",
              "      <td>0</td>\n",
              "      <td>0.06800</td>\n",
              "      <td>7</td>\n",
              "      <td>0</td>\n",
              "      <td>0</td>\n",
              "      <td>0</td>\n",
              "      <td>0.0</td>\n",
              "      <td>0</td>\n",
              "      <td>0.560729</td>\n",
              "      <td>False</td>\n",
              "      <td>False</td>\n",
              "    </tr>\n",
              "    <tr>\n",
              "      <th>25308</th>\n",
              "      <td>0.064688</td>\n",
              "      <td>60</td>\n",
              "      <td>0</td>\n",
              "      <td>0.42656</td>\n",
              "      <td>22</td>\n",
              "      <td>0</td>\n",
              "      <td>3</td>\n",
              "      <td>0</td>\n",
              "      <td>1.0</td>\n",
              "      <td>0</td>\n",
              "      <td>0.285564</td>\n",
              "      <td>False</td>\n",
              "      <td>False</td>\n",
              "    </tr>\n",
              "    <tr>\n",
              "      <th>73275</th>\n",
              "      <td>0.783699</td>\n",
              "      <td>49</td>\n",
              "      <td>2</td>\n",
              "      <td>0.20156</td>\n",
              "      <td>5</td>\n",
              "      <td>1</td>\n",
              "      <td>1</td>\n",
              "      <td>0</td>\n",
              "      <td>1.0</td>\n",
              "      <td>0</td>\n",
              "      <td>0.681874</td>\n",
              "      <td>False</td>\n",
              "      <td>False</td>\n",
              "    </tr>\n",
              "  </tbody>\n",
              "</table>\n",
              "<p>73276 rows × 13 columns</p>\n",
              "</div>"
            ],
            "text/plain": [
              "       feature1  age  ...  feature4_is_none  feature9_is_none\n",
              "18952  1.000000   29  ...             False             False\n",
              "9314   0.124761   29  ...             False             False\n",
              "9309   0.497543   40  ...             False             False\n",
              "29876  0.203918   59  ...             False             False\n",
              "9302   0.839109   45  ...             False             False\n",
              "...         ...  ...  ...               ...               ...\n",
              "25305  0.232698   37  ...             False             False\n",
              "25306  0.004256   48  ...             False             False\n",
              "25307  0.922164   37  ...             False             False\n",
              "25308  0.064688   60  ...             False             False\n",
              "73275  0.783699   49  ...             False             False\n",
              "\n",
              "[73276 rows x 13 columns]"
            ]
          },
          "metadata": {
            "tags": []
          },
          "execution_count": 94
        }
      ]
    },
    {
      "cell_type": "code",
      "metadata": {
        "id": "Yrv8JGJC-59H",
        "colab_type": "code",
        "colab": {}
      },
      "source": [
        "new_data = (TabularList.from_df(new_train_ds, cat_names=new_cat_names, cont_names=new_cont_names, procs=procs)\n",
        "                           .split_by_idx(list(range(3915,17590)))\n",
        "                           .label_from_df(cols=dep_var)\n",
        "                           .add_test(new_test_ds)\n",
        "                           .databunch())"
      ],
      "execution_count": 0,
      "outputs": []
    },
    {
      "cell_type": "markdown",
      "metadata": {
        "id": "cUDr-H1bnKg7",
        "colab_type": "text"
      },
      "source": [
        "We want to save more information, so we will define emb_szs={'feature5' : 24} for 5th feature:"
      ]
    },
    {
      "cell_type": "code",
      "metadata": {
        "id": "rD7sv8U7Ajoo",
        "colab_type": "code",
        "outputId": "dbf4200e-4bde-496b-e3ec-9b3750e31630",
        "colab": {
          "base_uri": "https://localhost:8080/",
          "height": 532
        }
      },
      "source": [
        "learn1 = tabular_learner(new_data,\n",
        "                         layers=[10,40,40,10],\n",
        "                         metrics = [f1, recall],\n",
        "                         emb_szs={'feature5' : 24}\n",
        "                         )\n",
        "learn1.model"
      ],
      "execution_count": 0,
      "outputs": [
        {
          "output_type": "execute_result",
          "data": {
            "text/plain": [
              "TabularModel(\n",
              "  (embeds): ModuleList(\n",
              "    (0): Embedding(6, 4)\n",
              "    (1): Embedding(24, 24)\n",
              "    (2): Embedding(5, 4)\n",
              "    (3): Embedding(6, 4)\n",
              "    (4): Embedding(4, 3)\n",
              "    (5): Embedding(6, 4)\n",
              "    (6): Embedding(3, 3)\n",
              "    (7): Embedding(3, 3)\n",
              "  )\n",
              "  (emb_drop): Dropout(p=0.0, inplace=False)\n",
              "  (bn_cont): BatchNorm1d(4, eps=1e-05, momentum=0.1, affine=True, track_running_stats=True)\n",
              "  (layers): Sequential(\n",
              "    (0): Linear(in_features=53, out_features=10, bias=True)\n",
              "    (1): ReLU(inplace=True)\n",
              "    (2): BatchNorm1d(10, eps=1e-05, momentum=0.1, affine=True, track_running_stats=True)\n",
              "    (3): Linear(in_features=10, out_features=40, bias=True)\n",
              "    (4): ReLU(inplace=True)\n",
              "    (5): BatchNorm1d(40, eps=1e-05, momentum=0.1, affine=True, track_running_stats=True)\n",
              "    (6): Linear(in_features=40, out_features=40, bias=True)\n",
              "    (7): ReLU(inplace=True)\n",
              "    (8): BatchNorm1d(40, eps=1e-05, momentum=0.1, affine=True, track_running_stats=True)\n",
              "    (9): Linear(in_features=40, out_features=10, bias=True)\n",
              "    (10): ReLU(inplace=True)\n",
              "    (11): BatchNorm1d(10, eps=1e-05, momentum=0.1, affine=True, track_running_stats=True)\n",
              "    (12): Linear(in_features=10, out_features=2, bias=True)\n",
              "  )\n",
              ")"
            ]
          },
          "metadata": {
            "tags": []
          },
          "execution_count": 158
        }
      ]
    },
    {
      "cell_type": "code",
      "metadata": {
        "id": "Ex14IMZSAzns",
        "colab_type": "code",
        "outputId": "a985b753-19ac-4f7f-a5d5-6f3eaade546f",
        "colab": {
          "base_uri": "https://localhost:8080/",
          "height": 112
        }
      },
      "source": [
        "learn1.lr_find()"
      ],
      "execution_count": 0,
      "outputs": [
        {
          "output_type": "display_data",
          "data": {
            "text/html": [
              "\n",
              "    <div>\n",
              "        <style>\n",
              "            /* Turns off some styling */\n",
              "            progress {\n",
              "                /* gets rid of default border in Firefox and Opera. */\n",
              "                border: none;\n",
              "                /* Needs to be in here for Safari polyfill so background images work as expected. */\n",
              "                background-size: auto;\n",
              "            }\n",
              "            .progress-bar-interrupted, .progress-bar-interrupted::-webkit-progress-bar {\n",
              "                background: #F44336;\n",
              "            }\n",
              "        </style>\n",
              "      <progress value='0' class='' max='1', style='width:300px; height:20px; vertical-align: middle;'></progress>\n",
              "      0.00% [0/1 00:00<00:00]\n",
              "    </div>\n",
              "    \n",
              "<table border=\"1\" class=\"dataframe\">\n",
              "  <thead>\n",
              "    <tr style=\"text-align: left;\">\n",
              "      <th>epoch</th>\n",
              "      <th>train_loss</th>\n",
              "      <th>valid_loss</th>\n",
              "      <th>f_beta</th>\n",
              "      <th>recall</th>\n",
              "      <th>time</th>\n",
              "    </tr>\n",
              "  </thead>\n",
              "  <tbody>\n",
              "  </tbody>\n",
              "</table><p>\n",
              "\n",
              "    <div>\n",
              "        <style>\n",
              "            /* Turns off some styling */\n",
              "            progress {\n",
              "                /* gets rid of default border in Firefox and Opera. */\n",
              "                border: none;\n",
              "                /* Needs to be in here for Safari polyfill so background images work as expected. */\n",
              "                background-size: auto;\n",
              "            }\n",
              "            .progress-bar-interrupted, .progress-bar-interrupted::-webkit-progress-bar {\n",
              "                background: #F44336;\n",
              "            }\n",
              "        </style>\n",
              "      <progress value='97' class='' max='931', style='width:300px; height:20px; vertical-align: middle;'></progress>\n",
              "      10.42% [97/931 00:01<00:11 1.4051]\n",
              "    </div>\n",
              "    "
            ],
            "text/plain": [
              "<IPython.core.display.HTML object>"
            ]
          },
          "metadata": {
            "tags": []
          }
        },
        {
          "output_type": "stream",
          "text": [
            "LR Finder is complete, type {learner_name}.recorder.plot() to see the graph.\n"
          ],
          "name": "stdout"
        }
      ]
    },
    {
      "cell_type": "code",
      "metadata": {
        "id": "UPKG9q0JAzmJ",
        "colab_type": "code",
        "outputId": "2f94e6bf-2184-41c4-9e2b-08299ed50465",
        "colab": {
          "base_uri": "https://localhost:8080/",
          "height": 314
        }
      },
      "source": [
        "learn1.recorder.plot(skip_end=10,suggestion=True)"
      ],
      "execution_count": 0,
      "outputs": [
        {
          "output_type": "stream",
          "text": [
            "Min numerical gradient: 1.10E+00\n",
            "Min loss divided by 10: 1.10E-01\n"
          ],
          "name": "stdout"
        },
        {
          "output_type": "display_data",
          "data": {
            "image/png": "[encoded data removed]",
            "text/plain": [
              "<Figure size 432x288 with 1 Axes>"
            ]
          },
          "metadata": {
            "tags": []
          }
        }
      ]
    },
    {
      "cell_type": "code",
      "metadata": {
        "id": "6VFS3TizAziT",
        "colab_type": "code",
        "outputId": "bc6a1bec-5700-4c22-df20-ace7bb6c788d",
        "colab": {
          "base_uri": "https://localhost:8080/",
          "height": 77
        }
      },
      "source": [
        "learn1.fit_one_cycle(1, 1e-2)"
      ],
      "execution_count": 0,
      "outputs": [
        {
          "output_type": "display_data",
          "data": {
            "text/html": [
              "<table border=\"1\" class=\"dataframe\">\n",
              "  <thead>\n",
              "    <tr style=\"text-align: left;\">\n",
              "      <th>epoch</th>\n",
              "      <th>train_loss</th>\n",
              "      <th>valid_loss</th>\n",
              "      <th>f_beta</th>\n",
              "      <th>recall</th>\n",
              "      <th>time</th>\n",
              "    </tr>\n",
              "  </thead>\n",
              "  <tbody>\n",
              "    <tr>\n",
              "      <td>0</td>\n",
              "      <td>0.181874</td>\n",
              "      <td>0.188743</td>\n",
              "      <td>0.351541</td>\n",
              "      <td>0.256384</td>\n",
              "      <td>00:13</td>\n",
              "    </tr>\n",
              "  </tbody>\n",
              "</table>"
            ],
            "text/plain": [
              "<IPython.core.display.HTML object>"
            ]
          },
          "metadata": {
            "tags": []
          }
        }
      ]
    },
    {
      "cell_type": "markdown",
      "metadata": {
        "id": "sYb09UQCniel",
        "colab_type": "text"
      },
      "source": [
        "Pretty close to first one, let's try do one more epoch with smaller step:"
      ]
    },
    {
      "cell_type": "code",
      "metadata": {
        "id": "jGClHyy5LHnk",
        "colab_type": "code",
        "colab": {}
      },
      "source": [
        "learn1.save('second_model')"
      ],
      "execution_count": 0,
      "outputs": []
    },
    {
      "cell_type": "code",
      "metadata": {
        "id": "ie7KFZ59NHnt",
        "colab_type": "code",
        "outputId": "df351a4b-c4db-4a0d-9711-49d3e66d72ac",
        "colab": {
          "base_uri": "https://localhost:8080/",
          "height": 112
        }
      },
      "source": [
        "learn1.lr_find()"
      ],
      "execution_count": 0,
      "outputs": [
        {
          "output_type": "display_data",
          "data": {
            "text/html": [
              "\n",
              "    <div>\n",
              "        <style>\n",
              "            /* Turns off some styling */\n",
              "            progress {\n",
              "                /* gets rid of default border in Firefox and Opera. */\n",
              "                border: none;\n",
              "                /* Needs to be in here for Safari polyfill so background images work as expected. */\n",
              "                background-size: auto;\n",
              "            }\n",
              "            .progress-bar-interrupted, .progress-bar-interrupted::-webkit-progress-bar {\n",
              "                background: #F44336;\n",
              "            }\n",
              "        </style>\n",
              "      <progress value='0' class='' max='1', style='width:300px; height:20px; vertical-align: middle;'></progress>\n",
              "      0.00% [0/1 00:00<00:00]\n",
              "    </div>\n",
              "    \n",
              "<table border=\"1\" class=\"dataframe\">\n",
              "  <thead>\n",
              "    <tr style=\"text-align: left;\">\n",
              "      <th>epoch</th>\n",
              "      <th>train_loss</th>\n",
              "      <th>valid_loss</th>\n",
              "      <th>f_beta</th>\n",
              "      <th>recall</th>\n",
              "      <th>time</th>\n",
              "    </tr>\n",
              "  </thead>\n",
              "  <tbody>\n",
              "  </tbody>\n",
              "</table><p>\n",
              "\n",
              "    <div>\n",
              "        <style>\n",
              "            /* Turns off some styling */\n",
              "            progress {\n",
              "                /* gets rid of default border in Firefox and Opera. */\n",
              "                border: none;\n",
              "                /* Needs to be in here for Safari polyfill so background images work as expected. */\n",
              "                background-size: auto;\n",
              "            }\n",
              "            .progress-bar-interrupted, .progress-bar-interrupted::-webkit-progress-bar {\n",
              "                background: #F44336;\n",
              "            }\n",
              "        </style>\n",
              "      <progress value='89' class='' max='931', style='width:300px; height:20px; vertical-align: middle;'></progress>\n",
              "      9.56% [89/931 00:01<00:11 0.1871]\n",
              "    </div>\n",
              "    "
            ],
            "text/plain": [
              "<IPython.core.display.HTML object>"
            ]
          },
          "metadata": {
            "tags": []
          }
        },
        {
          "output_type": "stream",
          "text": [
            "LR Finder is complete, type {learner_name}.recorder.plot() to see the graph.\n"
          ],
          "name": "stdout"
        }
      ]
    },
    {
      "cell_type": "code",
      "metadata": {
        "id": "n4n9YIGINQNo",
        "colab_type": "code",
        "outputId": "e6421b43-6bb4-4aef-c316-cf07908c8abe",
        "colab": {
          "base_uri": "https://localhost:8080/",
          "height": 314
        }
      },
      "source": [
        "learn1.recorder.plot(skip_end=10,suggestion=True)"
      ],
      "execution_count": 0,
      "outputs": [
        {
          "output_type": "stream",
          "text": [
            "Min numerical gradient: 1.58E-06\n",
            "Min loss divided by 10: 6.31E-08\n"
          ],
          "name": "stdout"
        },
        {
          "output_type": "display_data",
          "data": {
            "image/png": "[encoded data removed]",
            "text/plain": [
              "<Figure size 432x288 with 1 Axes>"
            ]
          },
          "metadata": {
            "tags": []
          }
        }
      ]
    },
    {
      "cell_type": "code",
      "metadata": {
        "id": "rOKr3K0jNUGD",
        "colab_type": "code",
        "outputId": "50322306-4fff-44a6-cabb-fcea8fa33992",
        "colab": {
          "base_uri": "https://localhost:8080/",
          "height": 77
        }
      },
      "source": [
        "learn1.fit_one_cycle(1, 1e-6)"
      ],
      "execution_count": 0,
      "outputs": [
        {
          "output_type": "display_data",
          "data": {
            "text/html": [
              "<table border=\"1\" class=\"dataframe\">\n",
              "  <thead>\n",
              "    <tr style=\"text-align: left;\">\n",
              "      <th>epoch</th>\n",
              "      <th>train_loss</th>\n",
              "      <th>valid_loss</th>\n",
              "      <th>f_beta</th>\n",
              "      <th>recall</th>\n",
              "      <th>time</th>\n",
              "    </tr>\n",
              "  </thead>\n",
              "  <tbody>\n",
              "    <tr>\n",
              "      <td>0</td>\n",
              "      <td>0.186793</td>\n",
              "      <td>0.189103</td>\n",
              "      <td>0.284820</td>\n",
              "      <td>0.185904</td>\n",
              "      <td>00:13</td>\n",
              "    </tr>\n",
              "  </tbody>\n",
              "</table>"
            ],
            "text/plain": [
              "<IPython.core.display.HTML object>"
            ]
          },
          "metadata": {
            "tags": []
          }
        }
      ]
    },
    {
      "cell_type": "markdown",
      "metadata": {
        "id": "cjxSFWZ2NiBB",
        "colab_type": "text"
      },
      "source": [
        "There was no way to raise the metrics, so let's use the first model."
      ]
    },
    {
      "cell_type": "code",
      "metadata": {
        "id": "f-P5uqnqNl1z",
        "colab_type": "code",
        "outputId": "ad19c34d-8a07-4309-e67b-5ea0826722d9",
        "colab": {
          "base_uri": "https://localhost:8080/",
          "height": 16
        }
      },
      "source": [
        "preds1,y1,losses1 = learn1.get_preds(with_loss=True)\n",
        "interp1 = ClassificationInterpretation(learn1, preds1, y1, losses1)"
      ],
      "execution_count": 0,
      "outputs": [
        {
          "output_type": "display_data",
          "data": {
            "text/html": [
              ""
            ],
            "text/plain": [
              "<IPython.core.display.HTML object>"
            ]
          },
          "metadata": {
            "tags": []
          }
        }
      ]
    },
    {
      "cell_type": "code",
      "metadata": {
        "id": "0ukvrouvOQ2Q",
        "colab_type": "code",
        "outputId": "7aa60b0b-8656-443b-e624-377cce984ef4",
        "colab": {
          "base_uri": "https://localhost:8080/",
          "height": 311
        }
      },
      "source": [
        "interp1.plot_confusion_matrix()"
      ],
      "execution_count": 0,
      "outputs": [
        {
          "output_type": "display_data",
          "data": {
            "image/png": "[encoded data removed]",
            "text/plain": [
              "<Figure size 432x288 with 1 Axes>"
            ]
          },
          "metadata": {
            "tags": []
          }
        }
      ]
    },
    {
      "cell_type": "code",
      "metadata": {
        "id": "o52F5u3FXQvx",
        "colab_type": "code",
        "colab": {}
      },
      "source": [
        "learn.export()"
      ],
      "execution_count": 0,
      "outputs": []
    },
    {
      "cell_type": "code",
      "metadata": {
        "id": "13UxhtLTXqdj",
        "colab_type": "code",
        "colab": {}
      },
      "source": [
        "path=learn.path"
      ],
      "execution_count": 0,
      "outputs": []
    },
    {
      "cell_type": "code",
      "metadata": {
        "id": "LNzCflJJWPVx",
        "colab_type": "code",
        "colab": {}
      },
      "source": [
        "tabList = TabularList.from_df(test_ds, cat_names=cat_names, cont_names=cont_names, procs=procs)\n",
        "\n",
        "learn = load_learner(path, test=tabList)"
      ],
      "execution_count": 0,
      "outputs": []
    },
    {
      "cell_type": "code",
      "metadata": {
        "id": "zrYMIOG2S4FG",
        "colab_type": "code",
        "colab": {}
      },
      "source": [
        "test_pred, _ = learn.get_preds(ds_type=DatasetType.Test)"
      ],
      "execution_count": 0,
      "outputs": []
    },
    {
      "cell_type": "code",
      "metadata": {
        "id": "pMviLnsYS4Cg",
        "colab_type": "code",
        "colab": {}
      },
      "source": [
        "pred_for_sub = np.argmax(to_np(test_pred), axis=1)"
      ],
      "execution_count": 0,
      "outputs": []
    },
    {
      "cell_type": "code",
      "metadata": {
        "id": "GKZACeHGS3vk",
        "colab_type": "code",
        "colab": {}
      },
      "source": [
        "sub = pd.DataFrame(pred_for_sub, columns=['target'])"
      ],
      "execution_count": 0,
      "outputs": []
    },
    {
      "cell_type": "markdown",
      "metadata": {
        "id": "BzKakGISoWjf",
        "colab_type": "text"
      },
      "source": [
        "We will do submission of this model, but our goal is to use Blending, so then we will save probabilities, that we got from NN:"
      ]
    },
    {
      "cell_type": "code",
      "metadata": {
        "id": "p4nDScsNanDK",
        "colab_type": "code",
        "colab": {}
      },
      "source": [
        "sub.to_csv('/content/drive/My Drive/credit/submission.csv')"
      ],
      "execution_count": 0,
      "outputs": []
    },
    {
      "cell_type": "code",
      "metadata": {
        "id": "Us4ExG_jOeG0",
        "colab_type": "code",
        "colab": {}
      },
      "source": [
        "predictions = train_ds.iloc[3915:17590].copy()"
      ],
      "execution_count": 0,
      "outputs": []
    },
    {
      "cell_type": "code",
      "metadata": {
        "id": "Q7RXIt1AQIiP",
        "colab_type": "code",
        "outputId": "3ee1c865-efa3-43d3-ccc4-bd83c7b93057",
        "colab": {
          "base_uri": "https://localhost:8080/",
          "height": 406
        }
      },
      "source": [
        "predictions"
      ],
      "execution_count": 0,
      "outputs": [
        {
          "output_type": "execute_result",
          "data": {
            "text/html": [
              "<div>\n",
              "<style scoped>\n",
              "    .dataframe tbody tr th:only-of-type {\n",
              "        vertical-align: middle;\n",
              "    }\n",
              "\n",
              "    .dataframe tbody tr th {\n",
              "        vertical-align: top;\n",
              "    }\n",
              "\n",
              "    .dataframe thead th {\n",
              "        text-align: right;\n",
              "    }\n",
              "</style>\n",
              "<table border=\"1\" class=\"dataframe\">\n",
              "  <thead>\n",
              "    <tr style=\"text-align: right;\">\n",
              "      <th></th>\n",
              "      <th>feature1</th>\n",
              "      <th>age</th>\n",
              "      <th>feature2</th>\n",
              "      <th>feature3</th>\n",
              "      <th>feature4</th>\n",
              "      <th>feature5</th>\n",
              "      <th>feature6</th>\n",
              "      <th>feature7</th>\n",
              "      <th>feature8</th>\n",
              "      <th>feature9</th>\n",
              "      <th>target</th>\n",
              "    </tr>\n",
              "  </thead>\n",
              "  <tbody>\n",
              "    <tr>\n",
              "      <th>59586</th>\n",
              "      <td>0.675929</td>\n",
              "      <td>67</td>\n",
              "      <td>0</td>\n",
              "      <td>0.801082</td>\n",
              "      <td>7575</td>\n",
              "      <td>14</td>\n",
              "      <td>0</td>\n",
              "      <td>2</td>\n",
              "      <td>0</td>\n",
              "      <td>0</td>\n",
              "      <td>1</td>\n",
              "    </tr>\n",
              "    <tr>\n",
              "      <th>14782</th>\n",
              "      <td>0.729130</td>\n",
              "      <td>47</td>\n",
              "      <td>4</td>\n",
              "      <td>0.572032</td>\n",
              "      <td>7100</td>\n",
              "      <td>12</td>\n",
              "      <td>0</td>\n",
              "      <td>2</td>\n",
              "      <td>0</td>\n",
              "      <td>2</td>\n",
              "      <td>1</td>\n",
              "    </tr>\n",
              "    <tr>\n",
              "      <th>25109</th>\n",
              "      <td>0.578890</td>\n",
              "      <td>49</td>\n",
              "      <td>3</td>\n",
              "      <td>0.449300</td>\n",
              "      <td>3500</td>\n",
              "      <td>7</td>\n",
              "      <td>1</td>\n",
              "      <td>1</td>\n",
              "      <td>1</td>\n",
              "      <td>0</td>\n",
              "      <td>1</td>\n",
              "    </tr>\n",
              "    <tr>\n",
              "      <th>25112</th>\n",
              "      <td>1.000000</td>\n",
              "      <td>57</td>\n",
              "      <td>1</td>\n",
              "      <td>0.401299</td>\n",
              "      <td>2000</td>\n",
              "      <td>4</td>\n",
              "      <td>2</td>\n",
              "      <td>1</td>\n",
              "      <td>2</td>\n",
              "      <td>2</td>\n",
              "      <td>1</td>\n",
              "    </tr>\n",
              "    <tr>\n",
              "      <th>59539</th>\n",
              "      <td>0.188208</td>\n",
              "      <td>33</td>\n",
              "      <td>0</td>\n",
              "      <td>0.462181</td>\n",
              "      <td>8500</td>\n",
              "      <td>10</td>\n",
              "      <td>0</td>\n",
              "      <td>2</td>\n",
              "      <td>0</td>\n",
              "      <td>0</td>\n",
              "      <td>1</td>\n",
              "    </tr>\n",
              "    <tr>\n",
              "      <th>...</th>\n",
              "      <td>...</td>\n",
              "      <td>...</td>\n",
              "      <td>...</td>\n",
              "      <td>...</td>\n",
              "      <td>...</td>\n",
              "      <td>...</td>\n",
              "      <td>...</td>\n",
              "      <td>...</td>\n",
              "      <td>...</td>\n",
              "      <td>...</td>\n",
              "      <td>...</td>\n",
              "    </tr>\n",
              "    <tr>\n",
              "      <th>39428</th>\n",
              "      <td>0.004444</td>\n",
              "      <td>30</td>\n",
              "      <td>0</td>\n",
              "      <td>0.004329</td>\n",
              "      <td>6775</td>\n",
              "      <td>2</td>\n",
              "      <td>0</td>\n",
              "      <td>0</td>\n",
              "      <td>0</td>\n",
              "      <td>3</td>\n",
              "      <td>0</td>\n",
              "    </tr>\n",
              "    <tr>\n",
              "      <th>47841</th>\n",
              "      <td>0.117874</td>\n",
              "      <td>54</td>\n",
              "      <td>0</td>\n",
              "      <td>10.145553</td>\n",
              "      <td>3125</td>\n",
              "      <td>10</td>\n",
              "      <td>0</td>\n",
              "      <td>2</td>\n",
              "      <td>0</td>\n",
              "      <td>0</td>\n",
              "      <td>0</td>\n",
              "    </tr>\n",
              "    <tr>\n",
              "      <th>47842</th>\n",
              "      <td>0.000000</td>\n",
              "      <td>69</td>\n",
              "      <td>0</td>\n",
              "      <td>0.004329</td>\n",
              "      <td>5683</td>\n",
              "      <td>2</td>\n",
              "      <td>0</td>\n",
              "      <td>0</td>\n",
              "      <td>0</td>\n",
              "      <td>0</td>\n",
              "      <td>0</td>\n",
              "    </tr>\n",
              "    <tr>\n",
              "      <th>39427</th>\n",
              "      <td>0.000000</td>\n",
              "      <td>42</td>\n",
              "      <td>0</td>\n",
              "      <td>0.355265</td>\n",
              "      <td>7416</td>\n",
              "      <td>12</td>\n",
              "      <td>0</td>\n",
              "      <td>2</td>\n",
              "      <td>0</td>\n",
              "      <td>2</td>\n",
              "      <td>0</td>\n",
              "    </tr>\n",
              "    <tr>\n",
              "      <th>39426</th>\n",
              "      <td>0.000000</td>\n",
              "      <td>44</td>\n",
              "      <td>0</td>\n",
              "      <td>0.368784</td>\n",
              "      <td>12025</td>\n",
              "      <td>8</td>\n",
              "      <td>0</td>\n",
              "      <td>2</td>\n",
              "      <td>0</td>\n",
              "      <td>0</td>\n",
              "      <td>0</td>\n",
              "    </tr>\n",
              "  </tbody>\n",
              "</table>\n",
              "<p>13675 rows × 11 columns</p>\n",
              "</div>"
            ],
            "text/plain": [
              "       feature1  age  feature2   feature3  ... feature7  feature8  feature9  target\n",
              "59586  0.675929   67         0   0.801082  ...        2         0         0       1\n",
              "14782  0.729130   47         4   0.572032  ...        2         0         2       1\n",
              "25109  0.578890   49         3   0.449300  ...        1         1         0       1\n",
              "25112  1.000000   57         1   0.401299  ...        1         2         2       1\n",
              "59539  0.188208   33         0   0.462181  ...        2         0         0       1\n",
              "...         ...  ...       ...        ...  ...      ...       ...       ...     ...\n",
              "39428  0.004444   30         0   0.004329  ...        0         0         3       0\n",
              "47841  0.117874   54         0  10.145553  ...        2         0         0       0\n",
              "47842  0.000000   69         0   0.004329  ...        0         0         0       0\n",
              "39427  0.000000   42         0   0.355265  ...        2         0         2       0\n",
              "39426  0.000000   44         0   0.368784  ...        2         0         0       0\n",
              "\n",
              "[13675 rows x 11 columns]"
            ]
          },
          "metadata": {
            "tags": []
          },
          "execution_count": 174
        }
      ]
    },
    {
      "cell_type": "code",
      "metadata": {
        "id": "2t4xC1mDQoJw",
        "colab_type": "code",
        "colab": {}
      },
      "source": [
        "predictions['losses'] = losses\n",
        "predictions['preds'] = to_np(preds)[:, 0]"
      ],
      "execution_count": 0,
      "outputs": []
    },
    {
      "cell_type": "code",
      "metadata": {
        "id": "JpOKiiMVQ-Op",
        "colab_type": "code",
        "outputId": "6ffc470a-edb1-4628-f202-65b6f0e8a287",
        "colab": {
          "base_uri": "https://localhost:8080/",
          "height": 406
        }
      },
      "source": [
        "predictions"
      ],
      "execution_count": 0,
      "outputs": [
        {
          "output_type": "execute_result",
          "data": {
            "text/html": [
              "<div>\n",
              "<style scoped>\n",
              "    .dataframe tbody tr th:only-of-type {\n",
              "        vertical-align: middle;\n",
              "    }\n",
              "\n",
              "    .dataframe tbody tr th {\n",
              "        vertical-align: top;\n",
              "    }\n",
              "\n",
              "    .dataframe thead th {\n",
              "        text-align: right;\n",
              "    }\n",
              "</style>\n",
              "<table border=\"1\" class=\"dataframe\">\n",
              "  <thead>\n",
              "    <tr style=\"text-align: right;\">\n",
              "      <th></th>\n",
              "      <th>feature1</th>\n",
              "      <th>age</th>\n",
              "      <th>feature2</th>\n",
              "      <th>feature3</th>\n",
              "      <th>feature4</th>\n",
              "      <th>feature5</th>\n",
              "      <th>feature6</th>\n",
              "      <th>feature7</th>\n",
              "      <th>feature8</th>\n",
              "      <th>feature9</th>\n",
              "      <th>target</th>\n",
              "      <th>losses</th>\n",
              "      <th>preds</th>\n",
              "    </tr>\n",
              "  </thead>\n",
              "  <tbody>\n",
              "    <tr>\n",
              "      <th>59586</th>\n",
              "      <td>0.675929</td>\n",
              "      <td>67</td>\n",
              "      <td>0</td>\n",
              "      <td>0.801082</td>\n",
              "      <td>7575</td>\n",
              "      <td>14</td>\n",
              "      <td>0</td>\n",
              "      <td>2</td>\n",
              "      <td>0</td>\n",
              "      <td>0</td>\n",
              "      <td>1</td>\n",
              "      <td>3.108189</td>\n",
              "      <td>0.955318</td>\n",
              "    </tr>\n",
              "    <tr>\n",
              "      <th>14782</th>\n",
              "      <td>0.729130</td>\n",
              "      <td>47</td>\n",
              "      <td>4</td>\n",
              "      <td>0.572032</td>\n",
              "      <td>7100</td>\n",
              "      <td>12</td>\n",
              "      <td>0</td>\n",
              "      <td>2</td>\n",
              "      <td>0</td>\n",
              "      <td>2</td>\n",
              "      <td>1</td>\n",
              "      <td>1.162521</td>\n",
              "      <td>0.687303</td>\n",
              "    </tr>\n",
              "    <tr>\n",
              "      <th>25109</th>\n",
              "      <td>0.578890</td>\n",
              "      <td>49</td>\n",
              "      <td>3</td>\n",
              "      <td>0.449300</td>\n",
              "      <td>3500</td>\n",
              "      <td>7</td>\n",
              "      <td>1</td>\n",
              "      <td>1</td>\n",
              "      <td>1</td>\n",
              "      <td>0</td>\n",
              "      <td>1</td>\n",
              "      <td>0.552023</td>\n",
              "      <td>0.424216</td>\n",
              "    </tr>\n",
              "    <tr>\n",
              "      <th>25112</th>\n",
              "      <td>1.000000</td>\n",
              "      <td>57</td>\n",
              "      <td>1</td>\n",
              "      <td>0.401299</td>\n",
              "      <td>2000</td>\n",
              "      <td>4</td>\n",
              "      <td>2</td>\n",
              "      <td>1</td>\n",
              "      <td>2</td>\n",
              "      <td>2</td>\n",
              "      <td>1</td>\n",
              "      <td>0.497389</td>\n",
              "      <td>0.391884</td>\n",
              "    </tr>\n",
              "    <tr>\n",
              "      <th>59539</th>\n",
              "      <td>0.188208</td>\n",
              "      <td>33</td>\n",
              "      <td>0</td>\n",
              "      <td>0.462181</td>\n",
              "      <td>8500</td>\n",
              "      <td>10</td>\n",
              "      <td>0</td>\n",
              "      <td>2</td>\n",
              "      <td>0</td>\n",
              "      <td>0</td>\n",
              "      <td>1</td>\n",
              "      <td>3.304100</td>\n",
              "      <td>0.963268</td>\n",
              "    </tr>\n",
              "    <tr>\n",
              "      <th>...</th>\n",
              "      <td>...</td>\n",
              "      <td>...</td>\n",
              "      <td>...</td>\n",
              "      <td>...</td>\n",
              "      <td>...</td>\n",
              "      <td>...</td>\n",
              "      <td>...</td>\n",
              "      <td>...</td>\n",
              "      <td>...</td>\n",
              "      <td>...</td>\n",
              "      <td>...</td>\n",
              "      <td>...</td>\n",
              "      <td>...</td>\n",
              "    </tr>\n",
              "    <tr>\n",
              "      <th>39428</th>\n",
              "      <td>0.004444</td>\n",
              "      <td>30</td>\n",
              "      <td>0</td>\n",
              "      <td>0.004329</td>\n",
              "      <td>6775</td>\n",
              "      <td>2</td>\n",
              "      <td>0</td>\n",
              "      <td>0</td>\n",
              "      <td>0</td>\n",
              "      <td>3</td>\n",
              "      <td>0</td>\n",
              "      <td>0.025243</td>\n",
              "      <td>0.975073</td>\n",
              "    </tr>\n",
              "    <tr>\n",
              "      <th>47841</th>\n",
              "      <td>0.117874</td>\n",
              "      <td>54</td>\n",
              "      <td>0</td>\n",
              "      <td>10.145553</td>\n",
              "      <td>3125</td>\n",
              "      <td>10</td>\n",
              "      <td>0</td>\n",
              "      <td>2</td>\n",
              "      <td>0</td>\n",
              "      <td>0</td>\n",
              "      <td>0</td>\n",
              "      <td>0.017805</td>\n",
              "      <td>0.982353</td>\n",
              "    </tr>\n",
              "    <tr>\n",
              "      <th>47842</th>\n",
              "      <td>0.000000</td>\n",
              "      <td>69</td>\n",
              "      <td>0</td>\n",
              "      <td>0.004329</td>\n",
              "      <td>5683</td>\n",
              "      <td>2</td>\n",
              "      <td>0</td>\n",
              "      <td>0</td>\n",
              "      <td>0</td>\n",
              "      <td>0</td>\n",
              "      <td>0</td>\n",
              "      <td>0.004855</td>\n",
              "      <td>0.995157</td>\n",
              "    </tr>\n",
              "    <tr>\n",
              "      <th>39427</th>\n",
              "      <td>0.000000</td>\n",
              "      <td>42</td>\n",
              "      <td>0</td>\n",
              "      <td>0.355265</td>\n",
              "      <td>7416</td>\n",
              "      <td>12</td>\n",
              "      <td>0</td>\n",
              "      <td>2</td>\n",
              "      <td>0</td>\n",
              "      <td>2</td>\n",
              "      <td>0</td>\n",
              "      <td>0.024982</td>\n",
              "      <td>0.975328</td>\n",
              "    </tr>\n",
              "    <tr>\n",
              "      <th>39426</th>\n",
              "      <td>0.000000</td>\n",
              "      <td>44</td>\n",
              "      <td>0</td>\n",
              "      <td>0.368784</td>\n",
              "      <td>12025</td>\n",
              "      <td>8</td>\n",
              "      <td>0</td>\n",
              "      <td>2</td>\n",
              "      <td>0</td>\n",
              "      <td>0</td>\n",
              "      <td>0</td>\n",
              "      <td>0.006201</td>\n",
              "      <td>0.993818</td>\n",
              "    </tr>\n",
              "  </tbody>\n",
              "</table>\n",
              "<p>13675 rows × 13 columns</p>\n",
              "</div>"
            ],
            "text/plain": [
              "       feature1  age  feature2   feature3  ... feature9  target    losses     preds\n",
              "59586  0.675929   67         0   0.801082  ...        0       1  3.108189  0.955318\n",
              "14782  0.729130   47         4   0.572032  ...        2       1  1.162521  0.687303\n",
              "25109  0.578890   49         3   0.449300  ...        0       1  0.552023  0.424216\n",
              "25112  1.000000   57         1   0.401299  ...        2       1  0.497389  0.391884\n",
              "59539  0.188208   33         0   0.462181  ...        0       1  3.304100  0.963268\n",
              "...         ...  ...       ...        ...  ...      ...     ...       ...       ...\n",
              "39428  0.004444   30         0   0.004329  ...        3       0  0.025243  0.975073\n",
              "47841  0.117874   54         0  10.145553  ...        0       0  0.017805  0.982353\n",
              "47842  0.000000   69         0   0.004329  ...        0       0  0.004855  0.995157\n",
              "39427  0.000000   42         0   0.355265  ...        2       0  0.024982  0.975328\n",
              "39426  0.000000   44         0   0.368784  ...        0       0  0.006201  0.993818\n",
              "\n",
              "[13675 rows x 13 columns]"
            ]
          },
          "metadata": {
            "tags": []
          },
          "execution_count": 195
        }
      ]
    },
    {
      "cell_type": "code",
      "metadata": {
        "id": "XWmFJanFbB5U",
        "colab_type": "code",
        "colab": {}
      },
      "source": [
        "test_predictions = test_ds.copy()\n"
      ],
      "execution_count": 0,
      "outputs": []
    },
    {
      "cell_type": "code",
      "metadata": {
        "id": "_Jaw3V_lbZrB",
        "colab_type": "code",
        "colab": {}
      },
      "source": [
        "test_predictions['preds'] = to_np(test_pred)[:, 0]"
      ],
      "execution_count": 0,
      "outputs": []
    },
    {
      "cell_type": "markdown",
      "metadata": {
        "id": "eKNpLPH2pI3Y",
        "colab_type": "text"
      },
      "source": [
        "And saving results:"
      ]
    },
    {
      "cell_type": "code",
      "metadata": {
        "id": "V4vQPBkrbnCP",
        "colab_type": "code",
        "colab": {}
      },
      "source": [
        "predictions.to_csv('/content/drive/My Drive/credit/train_predictions.csv', index_label='idx')\n",
        "test_predictions.to_csv('/content/drive/My Drive/credit/test_predictions.csv', index_label='idx')"
      ],
      "execution_count": 0,
      "outputs": []
    }
  ]
}